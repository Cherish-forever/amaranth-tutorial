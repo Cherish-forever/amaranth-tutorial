{
 "cells": [
  {
   "cell_type": "markdown",
   "id": "5245625a-7f06-452c-a8d1-2e694f8b5275",
   "metadata": {},
   "source": [
    "# Enumerations\n",
    "\n",
    "amaranth.lib.enum模块是标准python enum模块的一个可替换版本，它提供了扩展的Enum，IntEnum，Flag和IntFlag\n",
    "\n",
    "并具备指定shape的能力，可使用shape=4，指定其shape。"
   ]
  },
  {
   "cell_type": "code",
   "execution_count": 20,
   "id": "3a34c8cb-26c8-4fef-be6b-f7fa1d6ce388",
   "metadata": {},
   "outputs": [
    {
     "data": {
      "text/plain": [
       "unsigned(4)"
      ]
     },
     "execution_count": 20,
     "metadata": {},
     "output_type": "execute_result"
    },
    {
     "data": {
      "text/plain": [
       "(const 4'd0)"
      ]
     },
     "execution_count": 20,
     "metadata": {},
     "output_type": "execute_result"
    }
   ],
   "source": [
    "%config InteractiveShell.ast_node_interactivity = \"all\"\n",
    "\n",
    "from amaranth import *\n",
    "from amaranth.lib import enum\n",
    "\n",
    "class Funct(enum.Enum, shape=4):\n",
    "    ADD = 0\n",
    "    SUB = 1\n",
    "    MUL = 2\n",
    "\n",
    "Shape.cast(Funct)\n",
    "Value.cast(Funct.ADD)"
   ]
  },
  {
   "cell_type": "markdown",
   "id": "6380fa2d-3eb0-43d6-9f68-247d8456ee65",
   "metadata": {},
   "source": [
    "任何constant-castable的常量表达式都可以用作成员的值。"
   ]
  },
  {
   "cell_type": "code",
   "execution_count": 21,
   "id": "c8005f06-3dae-44f6-aac2-924553e26790",
   "metadata": {},
   "outputs": [
    {
     "data": {
      "text/plain": [
       "<Instr.ADD: 0>"
      ]
     },
     "execution_count": 21,
     "metadata": {},
     "output_type": "execute_result"
    },
    {
     "data": {
      "text/plain": [
       "<Instr.ADDI: 16>"
      ]
     },
     "execution_count": 21,
     "metadata": {},
     "output_type": "execute_result"
    },
    {
     "data": {
      "text/plain": [
       "<Instr.SUB: 1>"
      ]
     },
     "execution_count": 21,
     "metadata": {},
     "output_type": "execute_result"
    },
    {
     "data": {
      "text/plain": [
       "<Instr.SUBI: 17>"
      ]
     },
     "execution_count": 21,
     "metadata": {},
     "output_type": "execute_result"
    },
    {
     "data": {
      "text/plain": [
       "<Instr.MUL: 2>"
      ]
     },
     "execution_count": 21,
     "metadata": {},
     "output_type": "execute_result"
    }
   ],
   "source": [
    "class Op(enum.Enum, shape=1):\n",
    "    REG = 0\n",
    "    IMM = 1\n",
    "\n",
    "class Instr(enum.Enum, shape=5):\n",
    "    ADD  = Cat(Funct.ADD, Op.REG)  # 0_0000    0\n",
    "    ADDI = Cat(Funct.ADD, Op.IMM)  # 1_0000    16\n",
    "    SUB  = Cat(Funct.SUB, Op.REG)  # 0_0001    1\n",
    "    SUBI = Cat(Funct.SUB, Op.IMM)  # 1_0001    17\n",
    "    MUL  = Cat(Funct.MUL, Op.REG)  # 0_0010    2\n",
    "\n",
    "Instr.ADD\n",
    "Instr.ADDI\n",
    "Instr.SUB\n",
    "Instr.SUBI\n",
    "Instr.MUL"
   ]
  },
  {
   "cell_type": "markdown",
   "id": "7dd8d9c7-ac2a-414c-847c-90756c9984e7",
   "metadata": {},
   "source": [
    "shape=是可选的，如果没有指定，那么你定义的class是完全继承于Python的enum"
   ]
  },
  {
   "cell_type": "code",
   "execution_count": 22,
   "id": "3987a344-efcb-444c-bfd4-84e05d6073a7",
   "metadata": {},
   "outputs": [],
   "source": [
    "import amaranth.lib.enum\n",
    "\n",
    "class NormalEnum(amaranth.lib.enum.Enum):\n",
    "    SPAM = 0\n",
    "    HAM = 1"
   ]
  },
  {
   "cell_type": "markdown",
   "id": "2b9f7a25-fe44-4188-88d4-9287eea29376",
   "metadata": {},
   "source": [
    "通过这种方式，这个模块可以作为标准enum模块的直接代替。\n",
    "\n",
    "在Amaranth项目中，所有的import enum语句都可以替换为 from amaranth.lib import enum\n",
    "\n",
    "当Signal使用Enum或Flag类型作为参数时，会自动包装在EnumView或FlagView包装器。\n",
    "\n",
    "任何value-like的内容也可以通过将其强制转化enum"
   ]
  },
  {
   "cell_type": "code",
   "execution_count": 23,
   "id": "d8103476-012e-4c26-b963-521e9b600e27",
   "metadata": {},
   "outputs": [
    {
     "data": {
      "text/plain": [
       "amaranth.lib.enum.EnumView"
      ]
     },
     "execution_count": 23,
     "metadata": {},
     "output_type": "execute_result"
    },
    {
     "data": {
      "text/plain": [
       "amaranth.hdl._ast.Signal"
      ]
     },
     "execution_count": 23,
     "metadata": {},
     "output_type": "execute_result"
    },
    {
     "data": {
      "text/plain": [
       "False"
      ]
     },
     "execution_count": 23,
     "metadata": {},
     "output_type": "execute_result"
    },
    {
     "data": {
      "text/plain": [
       "False"
      ]
     },
     "execution_count": 23,
     "metadata": {},
     "output_type": "execute_result"
    },
    {
     "data": {
      "text/plain": [
       "False"
      ]
     },
     "execution_count": 23,
     "metadata": {},
     "output_type": "execute_result"
    }
   ],
   "source": [
    "a = Signal(Funct)\n",
    "b = Signal(Op)\n",
    "c = Signal(4)\n",
    "\n",
    "type(a)\n",
    "type(c)\n",
    "\n",
    "Funct.ADD == 1            # 与值想比较\n",
    "Funct.MUL == Funct.SUB    # 与同类型的\n",
    "Funct.SUB == Op.IMM       # 与其他EnumView进行比较\n",
    "# a == b EnumView对象只能与相同枚举类型的值或其他EnumView进行比较"
   ]
  },
  {
   "cell_type": "markdown",
   "id": "7ea162ec-04b8-48fd-8201-acc5b0e68bc4",
   "metadata": {},
   "source": [
    "与标准的Python enum.IntEnum和enum.IntFlag类似，Amaranth的IntEnum和IntFlag是松散类型(loosely typed)\n",
    "\n",
    "因此不会像不同枚举那样被封装在view class中。"
   ]
  },
  {
   "cell_type": "code",
   "execution_count": 24,
   "id": "c058c039-5319-4894-9da4-796bb083bc24",
   "metadata": {},
   "outputs": [
    {
     "data": {
      "text/plain": [
       "True"
      ]
     },
     "execution_count": 24,
     "metadata": {},
     "output_type": "execute_result"
    }
   ],
   "source": [
    "class TransparentEnum(enum.IntEnum, shape=unsigned(4)):\n",
    "    FOO = 0\n",
    "    BAR = 1\n",
    "\n",
    "a = Signal(TransparentEnum)\n",
    "type(a) is Signal"
   ]
  },
  {
   "cell_type": "markdown",
   "id": "57cbe705-beb2-4a22-a478-7e949257e191",
   "metadata": {},
   "source": [
    "还可以为给定枚举定义一个自定义的view class"
   ]
  },
  {
   "cell_type": "code",
   "execution_count": 25,
   "id": "6ba08d59-f0eb-44d5-9108-fc8d7ebbe9f6",
   "metadata": {},
   "outputs": [
    {
     "data": {
      "text/plain": [
       "__main__.InstrView"
      ]
     },
     "execution_count": 25,
     "metadata": {},
     "output_type": "execute_result"
    },
    {
     "data": {
      "text/plain": [
       "(| (== (sig a) (const 5'd16)) (== (sig a) (const 5'd17)))"
      ]
     },
     "execution_count": 25,
     "metadata": {},
     "output_type": "execute_result"
    }
   ],
   "source": [
    "class InstrView(enum.EnumView):\n",
    "    def has_immediate(self):\n",
    "        return (self == Instr.ADDI) | (self == Instr.SUBI)\n",
    "\n",
    "class Instr(enum.Enum, shape=5, view_class=InstrView):\n",
    "    ADD  = Cat(Funct.ADD, Op.REG)\n",
    "    ADDI = Cat(Funct.ADD, Op.IMM)\n",
    "    SUB  = Cat(Funct.SUB, Op.REG)\n",
    "    SUBI = Cat(Funct.SUB, Op.IMM)\n",
    "\n",
    "a = Signal(Instr)\n",
    "type(a)\n",
    "a.has_immediate()"
   ]
  }
 ],
 "metadata": {
  "kernelspec": {
   "display_name": "Python 3 (ipykernel)",
   "language": "python",
   "name": "python3"
  },
  "language_info": {
   "codemirror_mode": {
    "name": "ipython",
    "version": 3
   },
   "file_extension": ".py",
   "mimetype": "text/x-python",
   "name": "python",
   "nbconvert_exporter": "python",
   "pygments_lexer": "ipython3",
   "version": "3.10.12"
  }
 },
 "nbformat": 4,
 "nbformat_minor": 5
}
