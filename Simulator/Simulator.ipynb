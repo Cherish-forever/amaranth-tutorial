{
 "cells": [
  {
   "cell_type": "markdown",
   "id": "9beda86d-cfb3-43fa-a5ad-52015f8eead6",
   "metadata": {},
   "source": [
    "# Simulator\n",
    "\n",
    "`amaranth.sim`模块，也被称为模拟器，使得在硬件实现之前呢狗狗在虚拟环境中评估设计功能。\n",
    "\n",
    "## 模拟电路\n",
    "\n",
    "以下示例模拟了两个设计中的一个：在同步始终域中运行的同步计数器和组合加法。"
   ]
  },
  {
   "cell_type": "code",
   "execution_count": 21,
   "id": "8de4aa69-7eef-425f-87f6-779d69572582",
   "metadata": {},
   "outputs": [],
   "source": [
    "%config InteractiveShell.ast_node_interactivity = \"all\"\n",
    "\n",
    "from amaranth.lib import wiring\n",
    "from amaranth.lib.wiring import In, Out\n",
    "\n",
    "class Counter(wiring.Component):\n",
    "    en: In(1, init=1)\n",
    "    count: Out(4)\n",
    "\n",
    "    def elaborate(self, platform):\n",
    "        m = Module()\n",
    "        with m.If(self.en):\n",
    "            m.d.sync += self.count.eq(self.count + 1)\n",
    "        return m\n",
    "\n",
    "class Adder(wiring.Component):\n",
    "    a: In(16)\n",
    "    b: In(16)\n",
    "    o: Out(17)\n",
    "\n",
    "    def elaborate(self, platform):\n",
    "        m = Module()\n",
    "        m.d.comb += self.o.eq(self.a + self.b)\n",
    "        return m"
   ]
  },
  {
   "cell_type": "markdown",
   "id": "5384cfb1-2eb9-40c6-b775-4eb7de68eda1",
   "metadata": {},
   "source": [
    "## 测试模拟电路\n",
    "\n",
    "模拟一般需要三个基本步骤：构建被测设备（DUT），为其构建一个模拟器，以及使用`Simulator.run()`或`Simulator.run_until()`方法运行模拟："
   ]
  },
  {
   "cell_type": "code",
   "execution_count": 24,
   "id": "2d0d8d61-f54f-48fb-a9dd-6c3e97df249f",
   "metadata": {},
   "outputs": [
    {
     "ename": "ImportError",
     "evalue": "cannot import name 'Period' from 'amaranth.sim' (/home/weig/.local/lib/python3.10/site-packages/amaranth/sim/__init__.py)",
     "output_type": "error",
     "traceback": [
      "\u001b[0;31m---------------------------------------------------------------------------\u001b[0m",
      "\u001b[0;31mImportError\u001b[0m                               Traceback (most recent call last)",
      "Cell \u001b[0;32mIn[24], line 1\u001b[0m\n\u001b[0;32m----> 1\u001b[0m \u001b[38;5;28;01mfrom\u001b[39;00m \u001b[38;5;21;01mamaranth\u001b[39;00m\u001b[38;5;21;01m.\u001b[39;00m\u001b[38;5;21;01msim\u001b[39;00m \u001b[38;5;28;01mimport\u001b[39;00m Simulator, Period\n\u001b[1;32m      3\u001b[0m dut \u001b[38;5;241m=\u001b[39m Counter()\n\u001b[1;32m      4\u001b[0m sim \u001b[38;5;241m=\u001b[39m Simulator(dut)\n",
      "\u001b[0;31mImportError\u001b[0m: cannot import name 'Period' from 'amaranth.sim' (/home/weig/.local/lib/python3.10/site-packages/amaranth/sim/__init__.py)"
     ]
    }
   ],
   "source": [
    "from amaranth.sim import Simulator, Period\n",
    "\n",
    "dut = Counter()\n",
    "sim = Simulator(dut)\n",
    "sim.run()"
   ]
  },
  {
   "cell_type": "markdown",
   "id": "aad70137-6623-467f-8132-e5e7a218087f",
   "metadata": {},
   "source": [
    "然而，上面的代码没有激励，也没有测量被测设备的输出。\n",
    "\n",
    "如果没有激励被添加到模拟中，Simulator.run()方法会立即返回。需要进行修改：\n",
    "\n",
    "* `Simulator.add_clock()`方法添加激励\n",
    "* `Simulator.run_until()`方法会在指定数量的时钟周期停止。\n",
    "* `Simulator.write_vcd()`方法输出VCD格式的波形文件"
   ]
  },
  {
   "cell_type": "code",
   "execution_count": 25,
   "id": "daa023e4-f422-4bf2-b136-687ce2ff4a21",
   "metadata": {},
   "outputs": [
    {
     "ename": "NameError",
     "evalue": "name 'Module' is not defined",
     "output_type": "error",
     "traceback": [
      "\u001b[0;31m---------------------------------------------------------------------------\u001b[0m",
      "\u001b[0;31mNameError\u001b[0m                                 Traceback (most recent call last)",
      "Cell \u001b[0;32mIn[25], line 2\u001b[0m\n\u001b[1;32m      1\u001b[0m dut \u001b[38;5;241m=\u001b[39m Counter()\n\u001b[0;32m----> 2\u001b[0m sim \u001b[38;5;241m=\u001b[39m \u001b[43mSimulator\u001b[49m\u001b[43m(\u001b[49m\u001b[43mdut\u001b[49m\u001b[43m)\u001b[49m\n\u001b[1;32m      3\u001b[0m sim\u001b[38;5;241m.\u001b[39madd_clock(Period(MHz\u001b[38;5;241m=\u001b[39m\u001b[38;5;241m1\u001b[39m)) \u001b[38;5;66;03m# 1MHZ period 1us\u001b[39;00m\n\u001b[1;32m      4\u001b[0m \u001b[38;5;28;01mwith\u001b[39;00m sim\u001b[38;5;241m.\u001b[39mwrite_vcd(\u001b[38;5;124m\"\u001b[39m\u001b[38;5;124mexample1.vcd\u001b[39m\u001b[38;5;124m\"\u001b[39m):\n",
      "File \u001b[0;32m~/.local/lib/python3.10/site-packages/amaranth/sim/core.py:78\u001b[0m, in \u001b[0;36mSimulator.__init__\u001b[0;34m(self, toplevel, engine)\u001b[0m\n\u001b[1;32m     74\u001b[0m \u001b[38;5;28;01melse\u001b[39;00m:\n\u001b[1;32m     75\u001b[0m     \u001b[38;5;28;01mraise\u001b[39;00m \u001b[38;5;167;01mTypeError\u001b[39;00m(\n\u001b[1;32m     76\u001b[0m         \u001b[38;5;124mf\u001b[39m\u001b[38;5;124m\"\u001b[39m\u001b[38;5;124mValue \u001b[39m\u001b[38;5;132;01m{\u001b[39;00mengine\u001b[38;5;132;01m!r}\u001b[39;00m\u001b[38;5;124m is not a simulation engine class or a simulation engine name\u001b[39m\u001b[38;5;124m\"\u001b[39m)\n\u001b[0;32m---> 78\u001b[0m \u001b[38;5;28mself\u001b[39m\u001b[38;5;241m.\u001b[39m_design  \u001b[38;5;241m=\u001b[39m \u001b[43mFragment\u001b[49m\u001b[38;5;241;43m.\u001b[39;49m\u001b[43mget\u001b[49m\u001b[43m(\u001b[49m\u001b[43mtoplevel\u001b[49m\u001b[43m,\u001b[49m\u001b[43m \u001b[49m\u001b[43mplatform\u001b[49m\u001b[38;5;241;43m=\u001b[39;49m\u001b[38;5;28;43;01mNone\u001b[39;49;00m\u001b[43m)\u001b[49m\u001b[38;5;241m.\u001b[39mprepare()\n\u001b[1;32m     79\u001b[0m \u001b[38;5;28mself\u001b[39m\u001b[38;5;241m.\u001b[39m_engine  \u001b[38;5;241m=\u001b[39m engine(\u001b[38;5;28mself\u001b[39m\u001b[38;5;241m.\u001b[39m_design)\n\u001b[1;32m     80\u001b[0m \u001b[38;5;28mself\u001b[39m\u001b[38;5;241m.\u001b[39m_clocked \u001b[38;5;241m=\u001b[39m \u001b[38;5;28mset\u001b[39m()\n",
      "File \u001b[0;32m~/.local/lib/python3.10/site-packages/amaranth/hdl/_ir.py:63\u001b[0m, in \u001b[0;36mFragment.get\u001b[0;34m(obj, platform)\u001b[0m\n\u001b[1;32m     61\u001b[0m     UnusedElaboratable\u001b[38;5;241m.\u001b[39m_MustUse__silence \u001b[38;5;241m=\u001b[39m \u001b[38;5;28;01mFalse\u001b[39;00m\n\u001b[1;32m     62\u001b[0m     obj\u001b[38;5;241m.\u001b[39m_MustUse__used \u001b[38;5;241m=\u001b[39m \u001b[38;5;28;01mTrue\u001b[39;00m\n\u001b[0;32m---> 63\u001b[0m     new_obj \u001b[38;5;241m=\u001b[39m obj\u001b[38;5;241m.\u001b[39melaborate(platform)\n\u001b[1;32m     64\u001b[0m \u001b[38;5;28;01melse\u001b[39;00m:\n\u001b[1;32m     65\u001b[0m     \u001b[38;5;28;01mraise\u001b[39;00m \u001b[38;5;167;01mTypeError\u001b[39;00m(\u001b[38;5;124mf\u001b[39m\u001b[38;5;124m\"\u001b[39m\u001b[38;5;124mObject \u001b[39m\u001b[38;5;132;01m{\u001b[39;00mobj\u001b[38;5;132;01m!r}\u001b[39;00m\u001b[38;5;124m is not an \u001b[39m\u001b[38;5;124m'\u001b[39m\u001b[38;5;124mElaboratable\u001b[39m\u001b[38;5;124m'\u001b[39m\u001b[38;5;124m nor \u001b[39m\u001b[38;5;124m'\u001b[39m\u001b[38;5;124mFragment\u001b[39m\u001b[38;5;124m'\u001b[39m\u001b[38;5;124m\"\u001b[39m)\n",
      "Cell \u001b[0;32mIn[21], line 11\u001b[0m, in \u001b[0;36mCounter.elaborate\u001b[0;34m(self, platform)\u001b[0m\n\u001b[1;32m     10\u001b[0m \u001b[38;5;28;01mdef\u001b[39;00m \u001b[38;5;21melaborate\u001b[39m(\u001b[38;5;28mself\u001b[39m, platform):\n\u001b[0;32m---> 11\u001b[0m     m \u001b[38;5;241m=\u001b[39m \u001b[43mModule\u001b[49m()\n\u001b[1;32m     12\u001b[0m     \u001b[38;5;28;01mwith\u001b[39;00m m\u001b[38;5;241m.\u001b[39mIf(\u001b[38;5;28mself\u001b[39m\u001b[38;5;241m.\u001b[39men):\n\u001b[1;32m     13\u001b[0m         m\u001b[38;5;241m.\u001b[39md\u001b[38;5;241m.\u001b[39msync \u001b[38;5;241m+\u001b[39m\u001b[38;5;241m=\u001b[39m \u001b[38;5;28mself\u001b[39m\u001b[38;5;241m.\u001b[39mcount\u001b[38;5;241m.\u001b[39meq(\u001b[38;5;28mself\u001b[39m\u001b[38;5;241m.\u001b[39mcount \u001b[38;5;241m+\u001b[39m \u001b[38;5;241m1\u001b[39m)\n",
      "\u001b[0;31mNameError\u001b[0m: name 'Module' is not defined"
     ]
    }
   ],
   "source": [
    "dut = Counter()\n",
    "sim = Simulator(dut)\n",
    "sim.add_clock(Period(MHz=1)) # 1MHZ period 1us\n",
    "with sim.write_vcd(\"example1.vcd\"):\n",
    "    sim.run_until(Period(MHz=1) * 15) # 15 periods of clock"
   ]
  },
  {
   "cell_type": "markdown",
   "id": "840b0c83-229d-4c08-b53c-eb986e99c556",
   "metadata": {},
   "source": [
    "波形被保存到example1.vcd文件中，使用Sufer或GTKWave进行查看\n",
    "\n",
    "`Simulator.reset()`方法将仿真恢复到初始状态。他可以用于加速测试，只是仿真被确定会遇到错误时输出波形："
   ]
  },
  {
   "cell_type": "code",
   "execution_count": 5,
   "id": "c727643a-1a58-4df1-856b-f065d44931cb",
   "metadata": {},
   "outputs": [
    {
     "ename": "NameError",
     "evalue": "name 'sim' is not defined",
     "output_type": "error",
     "traceback": [
      "\u001b[0;31m---------------------------------------------------------------------------\u001b[0m",
      "\u001b[0;31mNameError\u001b[0m                                 Traceback (most recent call last)",
      "Cell \u001b[0;32mIn[5], line 2\u001b[0m\n\u001b[1;32m      1\u001b[0m \u001b[38;5;28;01mtry\u001b[39;00m:\n\u001b[0;32m----> 2\u001b[0m     \u001b[43msim\u001b[49m\u001b[38;5;241m.\u001b[39mrun()\n\u001b[1;32m      3\u001b[0m \u001b[38;5;28;01mexcept\u001b[39;00m:\n",
      "\u001b[0;31mNameError\u001b[0m: name 'sim' is not defined",
      "\nDuring handling of the above exception, another exception occurred:\n",
      "\u001b[0;31mNameError\u001b[0m                                 Traceback (most recent call last)",
      "Cell \u001b[0;32mIn[5], line 4\u001b[0m\n\u001b[1;32m      2\u001b[0m     sim\u001b[38;5;241m.\u001b[39mrun()\n\u001b[1;32m      3\u001b[0m \u001b[38;5;28;01mexcept\u001b[39;00m:\n\u001b[0;32m----> 4\u001b[0m     \u001b[43msim\u001b[49m\u001b[38;5;241m.\u001b[39mreset()\n\u001b[1;32m      5\u001b[0m     \u001b[38;5;28;01mwith\u001b[39;00m sim\u001b[38;5;241m.\u001b[39mwrite_vcd(\u001b[38;5;124m\"\u001b[39m\u001b[38;5;124mexample1_err.vcd\u001b[39m\u001b[38;5;124m\"\u001b[39m):\n\u001b[1;32m      6\u001b[0m         sim\u001b[38;5;241m.\u001b[39mrun\n",
      "\u001b[0;31mNameError\u001b[0m: name 'sim' is not defined"
     ]
    }
   ],
   "source": [
    "try:\n",
    "    sim.run()\n",
    "except:\n",
    "    sim.reset()\n",
    "    with sim.write_vcd(\"example1_err.vcd\"):\n",
    "        sim.run"
   ]
  },
  {
   "cell_type": "markdown",
   "id": "e611e4d9-3275-48b0-ae2f-4684a91b4724",
   "metadata": {},
   "source": [
    "## 测试同步电路\n",
    "\n",
    "为了验证北侧设备在仿真中的功能是否正常，会提供已知值作为输入，并将输出与预期结果进行比较。\n",
    "\n",
    "这是通过向仿真其添加一种不同类型的激励，一个testbench： 使用的是python `async`异步实现的。它被测试单元（DUT）并发运行，并可以操控模拟中使用的信号。测试平台通过`Simulator.addtestbench（）`方法添加，并通过`SimulatorContext`对象与模拟器近些年个交互：使用`ctx.get()`方法检查信号的value，使用`ctx.set()`方法更改信号的Value，或者使用`ctx.tick()`方法等待一个时钟的上升沿。\n",
    "\n",
    "以下示例模拟了一个计数器，并验证了他可以通过`en`输入停止"
   ]
  },
  {
   "cell_type": "code",
   "execution_count": 26,
   "id": "39b875a5-8170-4d32-9c58-5570983a596a",
   "metadata": {},
   "outputs": [
    {
     "ename": "NameError",
     "evalue": "name 'Module' is not defined",
     "output_type": "error",
     "traceback": [
      "\u001b[0;31m---------------------------------------------------------------------------\u001b[0m",
      "\u001b[0;31mNameError\u001b[0m                                 Traceback (most recent call last)",
      "Cell \u001b[0;32mIn[26], line 11\u001b[0m\n\u001b[1;32m      8\u001b[0m     \u001b[38;5;28;01massert\u001b[39;00m ctx\u001b[38;5;241m.\u001b[39mget(dut\u001b[38;5;241m.\u001b[39mcount) \u001b[38;5;241m==\u001b[39m \u001b[38;5;241m5\u001b[39m \u001b[38;5;66;03m# 验证counter是否还是5\u001b[39;00m\n\u001b[1;32m      9\u001b[0m     ctx\u001b[38;5;241m.\u001b[39mset(dut\u001b[38;5;241m.\u001b[39men, \u001b[38;5;28;01mTrue\u001b[39;00m)          \u001b[38;5;66;03m# 打开计数器\u001b[39;00m\n\u001b[0;32m---> 11\u001b[0m sim \u001b[38;5;241m=\u001b[39m \u001b[43mSimulator\u001b[49m\u001b[43m(\u001b[49m\u001b[43mdut\u001b[49m\u001b[43m)\u001b[49m\n\u001b[1;32m     12\u001b[0m sim\u001b[38;5;241m.\u001b[39madd_clock(Period(MHz\u001b[38;5;241m=\u001b[39m\u001b[38;5;241m1\u001b[39m))\n\u001b[1;32m     13\u001b[0m sim\u001b[38;5;241m.\u001b[39madd_testbench(testbench_examole2) \u001b[38;5;66;03m# 添加testbench\u001b[39;00m\n",
      "File \u001b[0;32m~/.local/lib/python3.10/site-packages/amaranth/sim/core.py:78\u001b[0m, in \u001b[0;36mSimulator.__init__\u001b[0;34m(self, toplevel, engine)\u001b[0m\n\u001b[1;32m     74\u001b[0m \u001b[38;5;28;01melse\u001b[39;00m:\n\u001b[1;32m     75\u001b[0m     \u001b[38;5;28;01mraise\u001b[39;00m \u001b[38;5;167;01mTypeError\u001b[39;00m(\n\u001b[1;32m     76\u001b[0m         \u001b[38;5;124mf\u001b[39m\u001b[38;5;124m\"\u001b[39m\u001b[38;5;124mValue \u001b[39m\u001b[38;5;132;01m{\u001b[39;00mengine\u001b[38;5;132;01m!r}\u001b[39;00m\u001b[38;5;124m is not a simulation engine class or a simulation engine name\u001b[39m\u001b[38;5;124m\"\u001b[39m)\n\u001b[0;32m---> 78\u001b[0m \u001b[38;5;28mself\u001b[39m\u001b[38;5;241m.\u001b[39m_design  \u001b[38;5;241m=\u001b[39m \u001b[43mFragment\u001b[49m\u001b[38;5;241;43m.\u001b[39;49m\u001b[43mget\u001b[49m\u001b[43m(\u001b[49m\u001b[43mtoplevel\u001b[49m\u001b[43m,\u001b[49m\u001b[43m \u001b[49m\u001b[43mplatform\u001b[49m\u001b[38;5;241;43m=\u001b[39;49m\u001b[38;5;28;43;01mNone\u001b[39;49;00m\u001b[43m)\u001b[49m\u001b[38;5;241m.\u001b[39mprepare()\n\u001b[1;32m     79\u001b[0m \u001b[38;5;28mself\u001b[39m\u001b[38;5;241m.\u001b[39m_engine  \u001b[38;5;241m=\u001b[39m engine(\u001b[38;5;28mself\u001b[39m\u001b[38;5;241m.\u001b[39m_design)\n\u001b[1;32m     80\u001b[0m \u001b[38;5;28mself\u001b[39m\u001b[38;5;241m.\u001b[39m_clocked \u001b[38;5;241m=\u001b[39m \u001b[38;5;28mset\u001b[39m()\n",
      "File \u001b[0;32m~/.local/lib/python3.10/site-packages/amaranth/hdl/_ir.py:63\u001b[0m, in \u001b[0;36mFragment.get\u001b[0;34m(obj, platform)\u001b[0m\n\u001b[1;32m     61\u001b[0m     UnusedElaboratable\u001b[38;5;241m.\u001b[39m_MustUse__silence \u001b[38;5;241m=\u001b[39m \u001b[38;5;28;01mFalse\u001b[39;00m\n\u001b[1;32m     62\u001b[0m     obj\u001b[38;5;241m.\u001b[39m_MustUse__used \u001b[38;5;241m=\u001b[39m \u001b[38;5;28;01mTrue\u001b[39;00m\n\u001b[0;32m---> 63\u001b[0m     new_obj \u001b[38;5;241m=\u001b[39m obj\u001b[38;5;241m.\u001b[39melaborate(platform)\n\u001b[1;32m     64\u001b[0m \u001b[38;5;28;01melse\u001b[39;00m:\n\u001b[1;32m     65\u001b[0m     \u001b[38;5;28;01mraise\u001b[39;00m \u001b[38;5;167;01mTypeError\u001b[39;00m(\u001b[38;5;124mf\u001b[39m\u001b[38;5;124m\"\u001b[39m\u001b[38;5;124mObject \u001b[39m\u001b[38;5;132;01m{\u001b[39;00mobj\u001b[38;5;132;01m!r}\u001b[39;00m\u001b[38;5;124m is not an \u001b[39m\u001b[38;5;124m'\u001b[39m\u001b[38;5;124mElaboratable\u001b[39m\u001b[38;5;124m'\u001b[39m\u001b[38;5;124m nor \u001b[39m\u001b[38;5;124m'\u001b[39m\u001b[38;5;124mFragment\u001b[39m\u001b[38;5;124m'\u001b[39m\u001b[38;5;124m\"\u001b[39m)\n",
      "Cell \u001b[0;32mIn[21], line 11\u001b[0m, in \u001b[0;36mCounter.elaborate\u001b[0;34m(self, platform)\u001b[0m\n\u001b[1;32m     10\u001b[0m \u001b[38;5;28;01mdef\u001b[39;00m \u001b[38;5;21melaborate\u001b[39m(\u001b[38;5;28mself\u001b[39m, platform):\n\u001b[0;32m---> 11\u001b[0m     m \u001b[38;5;241m=\u001b[39m \u001b[43mModule\u001b[49m()\n\u001b[1;32m     12\u001b[0m     \u001b[38;5;28;01mwith\u001b[39;00m m\u001b[38;5;241m.\u001b[39mIf(\u001b[38;5;28mself\u001b[39m\u001b[38;5;241m.\u001b[39men):\n\u001b[1;32m     13\u001b[0m         m\u001b[38;5;241m.\u001b[39md\u001b[38;5;241m.\u001b[39msync \u001b[38;5;241m+\u001b[39m\u001b[38;5;241m=\u001b[39m \u001b[38;5;28mself\u001b[39m\u001b[38;5;241m.\u001b[39mcount\u001b[38;5;241m.\u001b[39meq(\u001b[38;5;28mself\u001b[39m\u001b[38;5;241m.\u001b[39mcount \u001b[38;5;241m+\u001b[39m \u001b[38;5;241m1\u001b[39m)\n",
      "\u001b[0;31mNameError\u001b[0m: name 'Module' is not defined"
     ]
    }
   ],
   "source": [
    "dut = Counter()\n",
    "\n",
    "async def testbench_example2(ctx):\n",
    "    await ctx.tick().repeat(5)     # 等待第五个上升沿之后\n",
    "    assert ctx.get(dut.count) == 5 # 验证counter是否为期待值\n",
    "    ctx.set(dut.en, False)         # 关闭计数器\n",
    "    await ctx.tick().repeat(5)     # 等待第10个上升沿之后\n",
    "    assert ctx.get(dut.count) == 5 # 验证counter是否还是5\n",
    "    ctx.set(dut.en, True)          # 打开计数器\n",
    "\n",
    "sim = Simulator(dut)\n",
    "sim.add_clock(Period(MHz=1))\n",
    "sim.add_testbench(testbench_examole2) # 添加testbench\n",
    "with sim.write_vcd(\"example2.vcd\"):\n",
    "    sim.run_until(Period(MHz=1) * 15)"
   ]
  },
  {
   "cell_type": "markdown",
   "id": "0e04cfec-64b3-474c-b9df-a9cc330ef8b2",
   "metadata": {},
   "source": [
    "由于该电路是同步的，并且`ctx.tick()`方法在电路对上升沿反应后才返回，因此对`en`输入的改变会影响在改变后的下一个时钟周期电路行为\n",
    "\n",
    "## 测试组合电路\n",
    "在测试组合电路时，使用`ctx.delay()`方法来推进仿真时间，而不是`ctx.tick()`方法，因为在这种情况下仿真不包含时钟。`Simulator.run()`方法在所有测试平台执行完成后停止仿真并返回。"
   ]
  },
  {
   "cell_type": "code",
   "execution_count": 7,
   "id": "0435b216-8898-4a87-adc5-ad06f78dc960",
   "metadata": {},
   "outputs": [
    {
     "ename": "NameError",
     "evalue": "name 'Adder' is not defined",
     "output_type": "error",
     "traceback": [
      "\u001b[0;31m---------------------------------------------------------------------------\u001b[0m",
      "\u001b[0;31mNameError\u001b[0m                                 Traceback (most recent call last)",
      "Cell \u001b[0;32mIn[7], line 1\u001b[0m\n\u001b[0;32m----> 1\u001b[0m dut \u001b[38;5;241m=\u001b[39m \u001b[43mAdder\u001b[49m()\n\u001b[1;32m      3\u001b[0m \u001b[38;5;28;01masync\u001b[39;00m \u001b[38;5;28;01mdef\u001b[39;00m \u001b[38;5;21mtestbench_example3\u001b[39m(ctx):\n\u001b[1;32m      4\u001b[0m     \u001b[38;5;28;01mawait\u001b[39;00m ctx\u001b[38;5;241m.\u001b[39mdelay(Period(us\u001b[38;5;241m=\u001b[39m\u001b[38;5;241m1\u001b[39m))\n",
      "\u001b[0;31mNameError\u001b[0m: name 'Adder' is not defined"
     ]
    }
   ],
   "source": [
    "dut = Adder()\n",
    "\n",
    "async def testbench_example3(ctx):\n",
    "    await ctx.delay(Period(us=1))\n",
    "    ctx.set(dut.a, 2)\n",
    "    ctx.set(dut.b, 2)\n",
    "    assert ctx.get(dut.o) == 4\n",
    "\n",
    "    await ctx.delay(Period(us=1))\n",
    "    ctx.set(dut.a, 1717)\n",
    "    ctx.set(dut.b, 420)\n",
    "    assert ctx.get(dut.o) == 2137\n",
    "\n",
    "    await ctx.delay(Period(us=2))\n",
    "\n",
    "sim = Simulator(dut)\n",
    "sim.add_testbench(testbench_example3)\n",
    "with sim.write_vcd(\"example3.vcd\"):\n",
    "    sim.run()"
   ]
  },
  {
   "cell_type": "markdown",
   "id": "7c6d4f93-5052-45da-9e1a-c714be5630e8",
   "metadata": {},
   "source": [
    "由于这个电路完全是组合逻辑电路，而且Amaranth模拟器使用的是组合电路零延迟模型，因此输出在输入变化的统一瞬间发生变化。\n",
    "\n",
    "## 用代码代替电路\n",
    "在仿真过程中，可以用等效的Python代码代替Amaranth电路。这可以用来提高仿真性能或避免在不需要合成的情况下将复杂的Python算法重新实现为Amaranth。\n",
    "\n",
    "这是通过向模拟器添加一个进程来完成的：一个异步的Python函数，他与北侧设备（DUT）同时作为模拟的一个组成部分运行。\n",
    "通过`Simulator.add_process()`方法添加一个进程，并接受一个SimulatorContex对象，通过该对象可以与模拟器进行交互。进程在概念上类似与testbench，但在两个重要方面有所不同。\n",
    "\n",
    "* testbench一明确的顺序运行（从地一个到最后一个，按照添加的顺序，仅在等待点提供控制），并且不能观察到设计不一致的中间状态，但在输入发生变化后，processes以不确定的顺序运行，直到设计收敛。\n",
    "* 在进程中，无法使用`ctx.get()`方法检查信号的Value，这确保了设计的中间不一致状态不会被整个过程观察到。\n",
    "\n",
    "线程通过信号与设计的其余部分进行通信，就像一个可详细说明的东西一样。\n",
    "\n",
    "## 替换同步电路\n",
    "进程无法使用`ctx.get()`方法检查信号的Value。相反，在同步进程中，信号的值在每个时钟上升沿使用`ctx.tick()`方法进行采样。\n",
    "\n",
    "以下代码将在一个进程中等效的Python代码替换Counter可拓展部分，并使用测试平台验证其正确性。"
   ]
  },
  {
   "cell_type": "code",
   "execution_count": 8,
   "id": "7881c88f-8ef4-42ee-9547-9bffebdb5720",
   "metadata": {},
   "outputs": [
    {
     "ename": "NameError",
     "evalue": "name 'Module' is not defined",
     "output_type": "error",
     "traceback": [
      "\u001b[0;31m---------------------------------------------------------------------------\u001b[0m",
      "\u001b[0;31mNameError\u001b[0m                                 Traceback (most recent call last)",
      "Cell \u001b[0;32mIn[8], line 1\u001b[0m\n\u001b[0;32m----> 1\u001b[0m m \u001b[38;5;241m=\u001b[39m \u001b[43mModule\u001b[49m()\n\u001b[1;32m      2\u001b[0m m\u001b[38;5;241m.\u001b[39mdomains\u001b[38;5;241m.\u001b[39msync \u001b[38;5;241m=\u001b[39m cd_sync \u001b[38;5;241m=\u001b[39m ClockDomain()\n\u001b[1;32m      3\u001b[0m en \u001b[38;5;241m=\u001b[39m Signal(init\u001b[38;5;241m=\u001b[39m\u001b[38;5;241m1\u001b[39m)\n",
      "\u001b[0;31mNameError\u001b[0m: name 'Module' is not defined"
     ]
    }
   ],
   "source": [
    "m = Module()\n",
    "m.domains.sync = cd_sync = ClockDomain()\n",
    "en = Signal(init=1)\n",
    "count = Signal(4)\n",
    "\n",
    "async def process_example4(ctx):\n",
    "    count_value = 0\n",
    "    async for clk_edge, rst_value, en_value in ctx.tick().sample(en):\n",
    "        if rst_value:\n",
    "            count_value = 0\n",
    "        elif clk_edge and en_value:\n",
    "            count_value += 1\n",
    "            ctx.set(count, count_value)\n",
    "\n",
    "async def testbench_example4(ctx):\n",
    "    await ctx.tick().repeat(5)\n",
    "    assert ctx.get(count) == 5\n",
    "    ctx.set(en, False)\n",
    "    await ctx.tick().releat(5)\n",
    "    assert ctx.get(count) == 5\n",
    "    ctx.set(en, True)\n",
    "\n",
    "sim = Simulator(m)\n",
    "sim.add_clock(Period(MHz=1))\n",
    "sim.add_process(process_example4)\n",
    "sim.add_testbench(testbench_example4)\n",
    "with sim.write_vcd(\"example4.vcd\", traces=(cd_sync.clk, cd_sync.rst, en, count)):\n",
    "    sim.run()"
   ]
  },
  {
   "cell_type": "markdown",
   "id": "a652922f-c4e3-4dc3-8669-b1c9b3aa6b1b",
   "metadata": {},
   "source": [
    "除非另有指示，否则`Simulator.write_vcd()`方法仅捕获在模拟器创建时提供给模拟器的电路中出现的信号。`en`和`count`信号不在其中，因此使用traces参数显式的添加他们，以便他们出现在VCD文件中。\n",
    "\n",
    "## 替换组合电路\n",
    "在组合电路中，通常使用`ctx.changed()`进行采样。\n",
    "以下代码将可展开的加法器替换为等效的Python进程代码。"
   ]
  },
  {
   "cell_type": "code",
   "execution_count": 9,
   "id": "ff53b12e-a9e5-4e22-b00b-2a87460a63f3",
   "metadata": {},
   "outputs": [
    {
     "ename": "NameError",
     "evalue": "name 'Module' is not defined",
     "output_type": "error",
     "traceback": [
      "\u001b[0;31m---------------------------------------------------------------------------\u001b[0m",
      "\u001b[0;31mNameError\u001b[0m                                 Traceback (most recent call last)",
      "Cell \u001b[0;32mIn[9], line 1\u001b[0m\n\u001b[0;32m----> 1\u001b[0m m \u001b[38;5;241m=\u001b[39m \u001b[43mModule\u001b[49m()\n\u001b[1;32m      2\u001b[0m a \u001b[38;5;241m=\u001b[39m Signal(\u001b[38;5;241m16\u001b[39m)\n\u001b[1;32m      3\u001b[0m b \u001b[38;5;241m=\u001b[39m Signal(\u001b[38;5;241m16\u001b[39m)\n",
      "\u001b[0;31mNameError\u001b[0m: name 'Module' is not defined"
     ]
    }
   ],
   "source": [
    "m = Module()\n",
    "a = Signal(16)\n",
    "b = Signal(16)\n",
    "o = Signal(17)\n",
    "\n",
    "async def process_example5(ctx):\n",
    "    async for a_value, b_value, in ctx.changed(a, b):\n",
    "        ctx.set(o, a_value + b_value)\n",
    "\n",
    "async def testbench_example5(ctx):\n",
    "    await ctx.delay(Period(us=1))\n",
    "    ctx.set(a, 2)\n",
    "    ctx.set(b, 2)\n",
    "    assert ctx.get(o) == 4\n",
    "\n",
    "    await ctx.delay(Period(us=1))\n",
    "    ctx.set(a, 1717)\n",
    "    ctx.set(b, 420)\n",
    "    assert ctx.get(o) == 2137\n",
    "\n",
    "    await ctx.delay(Period(us=2))\n",
    "\n",
    "sim = Simulator(m)\n",
    "sim.add_process(process_example5)\n",
    "sim.add_testbench(testbench_example5)\n",
    "with sim.write_vcd(\"exmaple5.vcd\", traces=[a, b, o]):\n",
    "    sim.run()"
   ]
  }
 ],
 "metadata": {
  "kernelspec": {
   "display_name": "Python 3 (ipykernel)",
   "language": "python",
   "name": "python3"
  },
  "language_info": {
   "codemirror_mode": {
    "name": "ipython",
    "version": 3
   },
   "file_extension": ".py",
   "mimetype": "text/x-python",
   "name": "python",
   "nbconvert_exporter": "python",
   "pygments_lexer": "ipython3",
   "version": "3.10.12"
  }
 },
 "nbformat": 4,
 "nbformat_minor": 5
}
