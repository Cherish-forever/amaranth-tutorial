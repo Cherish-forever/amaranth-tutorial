{
 "cells": [
  {
   "cell_type": "markdown",
   "id": "5d25678a-ac4f-4a10-a912-1b5deb4b0e1b",
   "metadata": {},
   "source": [
    "# Signal\n",
    "\n",
    "Signal表示变化的数字的Value。信号可以在combinational（组合）或synchronous（时序）中分配。\n",
    "\n",
    "有可能是生成wires或registers（自动判断是生成wire还是reg）\n",
    "\n",
    "Signal始终具有明确定义的值，不能是uninitialized或undefined。"
   ]
  },
  {
   "cell_type": "code",
   "execution_count": 19,
   "id": "eea49ab5-bbad-4a88-953c-736421353919",
   "metadata": {},
   "outputs": [
    {
     "data": {
      "text/plain": [
       "unsigned(1)"
      ]
     },
     "execution_count": 19,
     "metadata": {},
     "output_type": "execute_result"
    },
    {
     "data": {
      "text/plain": [
       "unsigned(8)"
      ]
     },
     "execution_count": 19,
     "metadata": {},
     "output_type": "execute_result"
    },
    {
     "data": {
      "text/plain": [
       "unsigned(4)"
      ]
     },
     "execution_count": 19,
     "metadata": {},
     "output_type": "execute_result"
    },
    {
     "data": {
      "text/plain": [
       "signed(8)"
      ]
     },
     "execution_count": 19,
     "metadata": {},
     "output_type": "execute_result"
    }
   ],
   "source": [
    "%config InteractiveShell.ast_node_interactivity = \"all\"\n",
    "\n",
    "from amaranth import *\n",
    "\n",
    "Signal().shape()                 # 默认为1bit位宽，无符号，默认值为0的Signal\n",
    "Signal(8).shape()                # 构造一个8bits位宽,无符号，默认值为0的Signal\n",
    "Signal(unsigned(4)).shape()      # 使用Shape构造Singal\n",
    "Signal(range(-100, 100)).shape() # 使用range构造Singal"
   ]
  },
  {
   "cell_type": "markdown",
   "id": "8d593658-f9c8-4214-9401-9ca04ee8c836",
   "metadata": {},
   "source": [
    "## Signal的feature\n",
    "\n",
    "Signal有shape， name， init， reset(废弃)， reset_less(复位不改变当前值)， attrs(后端)， decoder(辅助调试)等"
   ]
  },
  {
   "cell_type": "code",
   "execution_count": 16,
   "id": "e7846637-9f9a-4718-9582-aaa629b536d7",
   "metadata": {},
   "outputs": [
    {
     "data": {
      "text/plain": [
       "unsigned(1)"
      ]
     },
     "execution_count": 16,
     "metadata": {},
     "output_type": "execute_result"
    },
    {
     "data": {
      "text/plain": [
       "'address'"
      ]
     },
     "execution_count": 16,
     "metadata": {},
     "output_type": "execute_result"
    },
    {
     "data": {
      "text/plain": [
       "5"
      ]
     },
     "execution_count": 16,
     "metadata": {},
     "output_type": "execute_result"
    },
    {
     "data": {
      "text/plain": [
       "'a'"
      ]
     },
     "execution_count": 16,
     "metadata": {},
     "output_type": "execute_result"
    }
   ],
   "source": [
    "Signal().shape()                  # 构造一个1bit位宽，无符号，默认值为0的Signal\n",
    "Signal(8, name=\"address\").name    # 创建一个信号名为address的8bits位宽无符号默认值为0的Signal\n",
    "Signal(4, init=5).init            # 构造一个4bits位宽，无符号，默认值为5的Singal\n",
    "\n",
    "a = Signal(12)\n",
    "a.name                            # 默认为变量名称"
   ]
  },
  {
   "cell_type": "markdown",
   "id": "faa4ca0e-f414-4ef9-a004-cc0a6492cffb",
   "metadata": {},
   "source": [
    "## Signal shapes"
   ]
  },
  {
   "cell_type": "code",
   "execution_count": null,
   "id": "d813108f-39b7-4a0d-aaa9-c864544af233",
   "metadata": {},
   "outputs": [],
   "source": []
  }
 ],
 "metadata": {
  "kernelspec": {
   "display_name": "Python 3 (ipykernel)",
   "language": "python",
   "name": "python3"
  },
  "language_info": {
   "codemirror_mode": {
    "name": "ipython",
    "version": 3
   },
   "file_extension": ".py",
   "mimetype": "text/x-python",
   "name": "python",
   "nbconvert_exporter": "python",
   "pygments_lexer": "ipython3",
   "version": "3.10.12"
  }
 },
 "nbformat": 4,
 "nbformat_minor": 5
}
