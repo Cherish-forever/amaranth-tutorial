{
 "cells": [
  {
   "cell_type": "markdown",
   "id": "aca0aff6-9116-4624-b876-544eb4337710",
   "metadata": {},
   "source": [
    "# Memories\n",
    "\n",
    "Amaranth在标准库模块amaranth.lib.memory中提供对内存的支持。"
   ]
  },
  {
   "cell_type": "code",
   "execution_count": null,
   "id": "d6a12d9c-ed3e-4166-a320-92f42cec66d7",
   "metadata": {},
   "outputs": [],
   "source": []
  }
 ],
 "metadata": {
  "kernelspec": {
   "display_name": "Python 3 (ipykernel)",
   "language": "python",
   "name": "python3"
  },
  "language_info": {
   "codemirror_mode": {
    "name": "ipython",
    "version": 3
   },
   "file_extension": ".py",
   "mimetype": "text/x-python",
   "name": "python",
   "nbconvert_exporter": "python",
   "pygments_lexer": "ipython3",
   "version": "3.10.12"
  }
 },
 "nbformat": 4,
 "nbformat_minor": 5
}
