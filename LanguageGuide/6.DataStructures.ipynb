{
 "cells": [
  {
   "cell_type": "markdown",
   "id": "378db6be-2db8-4b35-a0fc-a5635af39b86",
   "metadata": {},
   "source": [
    "# Data structures\n",
    "\n",
    "Amaranth在标准库模块amaranth.lib.data中提供聚合数据结构"
   ]
  },
  {
   "cell_type": "code",
   "execution_count": null,
   "id": "bb0532b0-071b-4101-8941-69459e8ce24e",
   "metadata": {},
   "outputs": [],
   "source": []
  }
 ],
 "metadata": {
  "kernelspec": {
   "display_name": "Python 3 (ipykernel)",
   "language": "python",
   "name": "python3"
  },
  "language_info": {
   "codemirror_mode": {
    "name": "ipython",
    "version": 3
   },
   "file_extension": ".py",
   "mimetype": "text/x-python",
   "name": "python",
   "nbconvert_exporter": "python",
   "pygments_lexer": "ipython3",
   "version": "3.10.12"
  }
 },
 "nbformat": 4,
 "nbformat_minor": 5
}
