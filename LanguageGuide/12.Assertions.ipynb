{
 "cells": [
  {
   "cell_type": "markdown",
   "id": "8062ac78-d620-46e6-84e0-aaf06df12181",
   "metadata": {},
   "source": [
    "# Assertions\n",
    "\n",
    "有些属性非常重要，如果违反了，则设计将变的毫无意义。这些属性应使用Assert语句进行保护，如果其条件为false，则立即终止模拟。\n",
    "\n",
    "Assertions通常应被添加到synchronous domains，并且在违反它时打印一条可选消息。"
   ]
  },
  {
   "cell_type": "code",
   "execution_count": null,
   "id": "cdb6efa3-7885-4a86-beff-c8114f224cce",
   "metadata": {},
   "outputs": [],
   "source": [
    "%config InteractiveShell.ast_node_interactivity = \"all\"\n",
    "\n",
    "from amaranth import *\n",
    "\n",
    "ip = Signal(16)\n",
    "m.d.sync += Assert(ip < 128, \"Instruction pointer past the end of program code!\")"
   ]
  },
  {
   "cell_type": "markdown",
   "id": "295e52eb-5317-4b90-83a5-6fd229edecfd",
   "metadata": {},
   "source": [
    "Asssertions可以嵌套在control block"
   ]
  },
  {
   "cell_type": "code",
   "execution_count": null,
   "id": "111ea165-5f9c-46e4-a249-0e59d1f1c60c",
   "metadata": {},
   "outputs": [],
   "source": [
    "with m.If(~booting):\n",
    "    m.d.sync += Assert(ip < 128)"
   ]
  },
  {
   "cell_type": "markdown",
   "id": "1748bcc9-f9eb-4a13-a7ba-06540c4b87eb",
   "metadata": {},
   "source": [
    "虽然也可以向comb dimains添加Assert，但组合逻辑电路的仿真可能会有毛刺：\n",
    "\n",
    "正在计算的表达式的值的瞬时顺态变化不会影响计算结果（因此在大多数波形查看器中不可见）。\n",
    "\n",
    "根据用于仿真的给你根据，Assert或包含Assert的control block中的毛刺可能会导致仿真的终止，即使毛刺之后会立即解决。\n",
    "\n",
    "如果在synchronous domain中嵌入了assert，那么在combinational domain中添加该assert是安全的。\n",
    "\n",
    "例如ip和引导Signal由哪个domain驱动，下面示例中的Assert不会因为毛刺而退出。"
   ]
  },
  {
   "cell_type": "code",
   "execution_count": null,
   "id": "e08566b5-3219-40e1-8de1-32981cdd4986",
   "metadata": {},
   "outputs": [],
   "source": [
    "ip_sync = Signal.like(ip)\n",
    "m.d.sync += ip_sync.eq(ip)\n",
    "\n",
    "m.d.comb += Assert(ip_sync < 128)\n",
    "with m.If(booting):\n",
    "    m.d.comb += Assert(ip_sync < 128)"
   ]
  },
  {
   "cell_type": "markdown",
   "id": "f6c8c970-0781-43eb-85e9-3268021b0562",
   "metadata": {},
   "source": [
    "如果可能，应在synchronous domains中添加assertions。\n",
    "\n",
    "如果不是，例如如果Assert是在其他地方的synchronous domains中分配的信号，则在Assert添加到comb domain时应小心。"
   ]
  },
  {
   "cell_type": "code",
   "execution_count": null,
   "id": "cfae43b2-93bb-4dd2-a5a6-c9cb6f4b0025",
   "metadata": {},
   "outputs": [],
   "source": []
  }
 ],
 "metadata": {
  "kernelspec": {
   "display_name": "Python 3 (ipykernel)",
   "language": "python",
   "name": "python3"
  },
  "language_info": {
   "codemirror_mode": {
    "name": "ipython",
    "version": 3
   },
   "file_extension": ".py",
   "mimetype": "text/x-python",
   "name": "python",
   "nbconvert_exporter": "python",
   "pygments_lexer": "ipython3",
   "version": "3.10.12"
  }
 },
 "nbformat": 4,
 "nbformat_minor": 5
}
