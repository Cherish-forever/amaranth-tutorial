{
 "cells": [
  {
   "cell_type": "markdown",
   "id": "72bd5ee5-774e-4ec5-8f50-7adf6d4a89db",
   "metadata": {},
   "source": [
    "# Operates\n",
    "\n",
    "为了描述运算，Amaranth的value可以互相组合，也可以使用一组丰富的算术运算。\n",
    "\n",
    "加，减，乘，除，与，或，非，异或，按位与，等组合，以形成表达式，这些表达式本身就是Value。"
   ]
  },
  {
   "cell_type": "markdown",
   "id": "c6feeaf8-5875-423c-9dc1-3ecd466d9d61",
   "metadata": {},
   "source": [
    "## 执行或描述运算\n",
    "\n",
    "用Python语言编写的代码对具体对象执行计算"
   ]
  },
  {
   "cell_type": "code",
   "execution_count": 1,
   "id": "03f34fa6-a055-4b6c-9a87-81198b9bad05",
   "metadata": {},
   "outputs": [
    {
     "data": {
      "text/plain": [
       "6"
      ]
     },
     "execution_count": 1,
     "metadata": {},
     "output_type": "execute_result"
    }
   ],
   "source": [
    "a = 5\n",
    "a + 1"
   ]
  },
  {
   "cell_type": "code",
   "execution_count": null,
   "id": "b9254787-816f-4839-bd0e-dea20b3d7c62",
   "metadata": {},
   "outputs": [],
   "source": [
    "相比之下，用Amaranth语言编写的代码描述了对象的运算，目的是生成可模拟，综合，的硬件电路。"
   ]
  },
  {
   "cell_type": "code",
   "execution_count": 2,
   "id": "3cae7ef4-dac8-45db-a30d-ce7c430e582c",
   "metadata": {},
   "outputs": [
    {
     "data": {
      "text/plain": [
       "(+ (sig a) (const 1'd1))"
      ]
     },
     "execution_count": 2,
     "metadata": {},
     "output_type": "execute_result"
    }
   ],
   "source": [
    "%config InteractiveShell.ast_node_interactivity = \"all\"\n",
    "\n",
    "from amaranth import *\n",
    "\n",
    "a = Signal(8, init=5)\n",
    "a + 1                   # 得到的是可模拟，综合的硬件电路"
   ]
  },
  {
   "cell_type": "markdown",
   "id": "c88d9269-4d03-4e60-9a8c-bf699ee5b747",
   "metadata": {},
   "source": [
    "尽管语法相似，但重要的是Amaranth的value比Python的value更高的抽象级别。\n",
    "\n",
    "Amaranth的value不能在Python的control flow结构中使用"
   ]
  },
  {
   "cell_type": "code",
   "execution_count": 3,
   "id": "c8439320-c19c-440f-8fa3-40ea86d6576e",
   "metadata": {},
   "outputs": [
    {
     "ename": "TypeError",
     "evalue": "Attempted to convert Amaranth value to Python boolean",
     "output_type": "error",
     "traceback": [
      "\u001b[0;31m---------------------------------------------------------------------------\u001b[0m",
      "\u001b[0;31mTypeError\u001b[0m                                 Traceback (most recent call last)",
      "Cell \u001b[0;32mIn[3], line 1\u001b[0m\n\u001b[0;32m----> 1\u001b[0m \u001b[38;5;28;01mif\u001b[39;00m a \u001b[38;5;241m==\u001b[39m \u001b[38;5;241m0\u001b[39m:\n\u001b[1;32m      2\u001b[0m     \u001b[38;5;28mprint\u001b[39m(\u001b[38;5;124m\"\u001b[39m\u001b[38;5;124mZero\u001b[39m\u001b[38;5;124m\"\u001b[39m)\n",
      "File \u001b[0;32m~/.local/lib/python3.10/site-packages/amaranth/hdl/_ast.py:637\u001b[0m, in \u001b[0;36mValue.__bool__\u001b[0;34m(self)\u001b[0m\n\u001b[1;32m    625\u001b[0m \u001b[38;5;28;01mdef\u001b[39;00m \u001b[38;5;21m__bool__\u001b[39m(\u001b[38;5;28mself\u001b[39m):\n\u001b[1;32m    626\u001b[0m \u001b[38;5;250m    \u001b[39m\u001b[38;5;124;03m\"\"\"Forbidden conversion to boolean.\u001b[39;00m\n\u001b[1;32m    627\u001b[0m \n\u001b[1;32m    628\u001b[0m \u001b[38;5;124;03m    Python uses this operator for its built-in semantics, e.g. :py:`if`, and requires it to\u001b[39;00m\n\u001b[0;32m   (...)\u001b[0m\n\u001b[1;32m    635\u001b[0m \u001b[38;5;124;03m        Always.\u001b[39;00m\n\u001b[1;32m    636\u001b[0m \u001b[38;5;124;03m    \"\"\"\u001b[39;00m\n\u001b[0;32m--> 637\u001b[0m     \u001b[38;5;28;01mraise\u001b[39;00m \u001b[38;5;167;01mTypeError\u001b[39;00m(\u001b[38;5;124m\"\u001b[39m\u001b[38;5;124mAttempted to convert Amaranth value to Python boolean\u001b[39m\u001b[38;5;124m\"\u001b[39m)\n",
      "\u001b[0;31mTypeError\u001b[0m: Attempted to convert Amaranth value to Python boolean"
     ]
    }
   ],
   "source": [
    "if a == 0:\n",
    "    print(\"Zero\")"
   ]
  },
  {
   "cell_type": "code",
   "execution_count": null,
   "id": "12f9a6ae-0785-4942-9710-549b919ee0f5",
   "metadata": {},
   "outputs": [],
   "source": [
    "因为在执行if语句时，a的值是为止的，所以没有办法决定是否应该执行if语句。\n",
    "\n",
    "Amaranth提供了自己的control flow语法，该语法也应用于电路。"
   ]
  },
  {
   "cell_type": "code",
   "execution_count": null,
   "id": "b5763bff-48c2-418c-9c0e-8ab7fcdfce04",
   "metadata": {},
   "outputs": [],
   "source": [
    "with m.if(a == 0):\n",
    "    print(\"Zero\")\n",
    "with m.Else:\n",
    "    print(\"No Zero\")"
   ]
  },
  {
   "cell_type": "markdown",
   "id": "9ec08b21-b0fa-4412-aa62-78a97472a47c",
   "metadata": {},
   "source": [
    "## 位宽扩展\n",
    "\n",
    "下面描述了许"
   ]
  },
  {
   "cell_type": "code",
   "execution_count": null,
   "id": "4adb46e3-8a1d-47c1-ac52-c67006cbc9ba",
   "metadata": {},
   "outputs": [],
   "source": []
  }
 ],
 "metadata": {
  "kernelspec": {
   "display_name": "Python 3 (ipykernel)",
   "language": "python",
   "name": "python3"
  },
  "language_info": {
   "codemirror_mode": {
    "name": "ipython",
    "version": 3
   },
   "file_extension": ".py",
   "mimetype": "text/x-python",
   "name": "python",
   "nbconvert_exporter": "python",
   "pygments_lexer": "ipython3",
   "version": "3.10.12"
  }
 },
 "nbformat": 4,
 "nbformat_minor": 5
}
