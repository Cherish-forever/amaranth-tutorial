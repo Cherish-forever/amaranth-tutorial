{
 "cells": [
  {
   "cell_type": "markdown",
   "id": "b17b0697-93e8-455c-b8dc-710e955f2ec7",
   "metadata": {},
   "source": [
    "# Control Flow\n",
    "\n",
    "Amaranth提供了If/Elif/Else， Switch/Case 和 FMS/State控制流语法。使用with块进行上下文管理。"
   ]
  },
  {
   "cell_type": "code",
   "execution_count": 1,
   "id": "0842f57c-5b1e-42d6-a017-b56e85f2a16b",
   "metadata": {},
   "outputs": [],
   "source": [
    "%config InteractiveShell.ast_node_interactivity = \"all\"\n",
    "\n",
    "from amaranth import *\n",
    "\n",
    "m = Module()\n",
    "timer = Signal(8)\n",
    "\n",
    "with m.If(timer == 0):\n",
    "    m.d.sync += timer.eq(10)\n",
    "with m.Else():\n",
    "    m.d.sync += timer.eq(timer - 1)\n"
   ]
  },
  {
   "cell_type": "markdown",
   "id": "c687f84b-536d-4dd7-932d-eb23dd386e49",
   "metadata": {},
   "source": [
    "上面的代码等效于："
   ]
  },
  {
   "cell_type": "code",
   "execution_count": 2,
   "id": "ebb46e06-4bf5-4686-8924-2da3cd7d7714",
   "metadata": {},
   "outputs": [],
   "source": [
    "timer = Signal(8)\n",
    "m.d.sync += timer.eq(Mux(timer == 0, 10, timer - 1))"
   ]
  },
  {
   "cell_type": "markdown",
   "id": "31fa5e40-2fd1-427b-88cc-16a8f6f92cd0",
   "metadata": {},
   "source": [
    "在Amaranth控制结构中的所有python代码始终按照它在程序中出现的顺序执行。可通过Python的print查看"
   ]
  },
  {
   "cell_type": "code",
   "execution_count": 3,
   "id": "6cd1368b-5d56-4c45-9d5b-1684327933ec",
   "metadata": {},
   "outputs": [
    {
     "name": "stdout",
     "output_type": "stream",
     "text": [
      "inside `If`\n",
      "inside `Else`\n"
     ]
    }
   ],
   "source": [
    "timer = Signal(8)\n",
    "with m.If(timer == 0):\n",
    "    print(\"inside `If`\")\n",
    "    m.d.sync += timer.eq(10)\n",
    "with m.Else():\n",
    "    print(\"inside `Else`\")\n",
    "    m.d.sync += timer.eq(timer - 1)"
   ]
  },
  {
   "cell_type": "markdown",
   "id": "d58df87e-4591-4b79-8b44-91e624888858",
   "metadata": {},
   "source": [
    "## Active and inactive assignments\n",
    "\n",
    "在Amaranth控制结构中，即使用m.<...>块，如果满足控制条件，则为active状态，否则为inactive状态。\n",
    "\n",
    "对于任何给定的条件集，模块中分配的每个信号的最终值与删除inactive assign\n",
    "\n",
    "总之，一句话，m.<....>一定要写全，比如有If，必有Else。 有Switch， 必有default。\n",
    "\n",
    "例如，一下代码生成circuit中有两种可能情况："
   ]
  },
  {
   "cell_type": "code",
   "execution_count": 4,
   "id": "403d982a-40ec-441b-beab-90ef39d978a1",
   "metadata": {},
   "outputs": [],
   "source": [
    "timer = Signal(8)\n",
    "m.d.sync += timer.eq(timer - 1)\n",
    "with m.If(timer == 0):\n",
    "    m.d.sync += timer.eq(10)"
   ]
  },
  {
   "cell_type": "markdown",
   "id": "765c5a62-a72c-4b2b-877f-cbb322effc09",
   "metadata": {},
   "source": [
    "当timer == 0时，代码简化为："
   ]
  },
  {
   "cell_type": "code",
   "execution_count": 5,
   "id": "ea41064e-1b4a-4c98-8004-f4c688705546",
   "metadata": {},
   "outputs": [],
   "source": [
    "m.d.sync += timer.eq(timer - 1)\n",
    "m.d.sync += timer.eq(10)"
   ]
  },
  {
   "cell_type": "markdown",
   "id": "3e604851-904b-4fd5-bf7d-972569a9281a",
   "metadata": {},
   "source": [
    "由于分配顺序，它进一步简化为："
   ]
  },
  {
   "cell_type": "code",
   "execution_count": 6,
   "id": "9705391e-5348-4b8c-ab00-60f3864d8e7f",
   "metadata": {},
   "outputs": [],
   "source": [
    "m.d.sync += timer.eq(10)"
   ]
  },
  {
   "cell_type": "markdown",
   "id": "af1d7dc1-d320-4da7-ae37-4abd2ac8b665",
   "metadata": {},
   "source": [
    "当timer == 0 为false时，代码简化为"
   ]
  },
  {
   "cell_type": "code",
   "execution_count": 7,
   "id": "5575b01f-316c-425d-b40a-8199e3288550",
   "metadata": {},
   "outputs": [],
   "source": [
    "m.d.sync += timer.eq(timer - 1)"
   ]
  },
  {
   "cell_type": "markdown",
   "id": "ad16c84e-02f4-4191-93a6-a244a18c45d2",
   "metadata": {},
   "source": [
    "将这些情况组合在一起，上面的代码等小于："
   ]
  },
  {
   "cell_type": "code",
   "execution_count": 8,
   "id": "805377e7-514e-4ccb-8919-7d1951dd6348",
   "metadata": {},
   "outputs": [],
   "source": [
    "timer = Signal(8)\n",
    "m.d.sync += timer.eq(Mux(timer == 0, 10, timer - 1))"
   ]
  },
  {
   "cell_type": "markdown",
   "id": "c9171aa7-cec8-4044-aec0-3b1dd55394b4",
   "metadata": {},
   "source": [
    "## If/Elif/Else控制块\n",
    "\n",
    "条件控制流使用with m.If(cond1): 块来描述，该块后面可以跟一个或多个with m.Elif(cond2): 块，以及一个可选的final with m.Else():块。这种结构类似于Python的if/elif/else控制流语法"
   ]
  },
  {
   "cell_type": "code",
   "execution_count": null,
   "id": "48e35013-5825-41d0-887c-79c4cf00ebaf",
   "metadata": {},
   "outputs": [],
   "source": [
    "with m.If(x_coord < 4):\n",
    "    m.d.comb += is_bporch.eq(1)\n",
    "    m.d.sync += x_coord.eq(x_coord + 1)\n",
    "with m.Elif((x_coord >= 4) & (x_coord < 354)):\n",
    "    m.d.comb += is_active.eq(1)\n",
    "    m.d.sync += x_coord.eq(x_coord + 1)\n",
    "with m.Elif((x_coord >= 364) & (x_coord < 374)):\n",
    "    m.d.comb += is_fporch.eq(1)\n",
    "    m.d.sync += x_coord.eq(x_coord + 1)\n",
    "with m.Else():\n",
    "    m.d.sync += x_coord.eq(0)"
   ]
  },
  {
   "cell_type": "markdown",
   "id": "8061a08a-da42-4f60-a338-e6cba7e1b9af",
   "metadata": {},
   "source": [
    "在单个If/Elif/Else块序列中，同一时刻只允许一个块处于active状态。\n",
    "\n",
    "如果存在Else块，则一个块中的语句随时处于active状态，并且整个序列称为完整条件。"
   ]
  },
  {
   "cell_type": "markdown",
   "id": "60685b8c-f6de-4568-973e-e0ecc7b567b3",
   "metadata": {},
   "source": [
    "# Switch/Case控制块\n",
    "\n",
    "根据不同的模式检查单个值，使用with m.switch(value):块来描述。\n",
    "\n",
    "次块可以包含任意数量的witch m.Case(*patterns)和一个with m.Default(): 块，此结构与python的match/case控制流语法类似。"
   ]
  },
  {
   "cell_type": "code",
   "execution_count": null,
   "id": "ac069121-6c5e-4848-958b-407caf04f2e5",
   "metadata": {},
   "outputs": [],
   "source": [
    "value = Signal(4)\n",
    "\n",
    "with m.Switch(value):\n",
    "    with m.Case(0, 2, 4):\n",
    "        m.d.comb += is_even.eq(1)\n",
    "    with m.Case(1, 3, 5):\n",
    "        m.d.comb += is_odd.eq(1)\n",
    "    with m.Default():\n",
    "        m.d.comb += too_big.eq(1)"
   ]
  },
  {
   "cell_type": "markdown",
   "id": "c007a591-67c2-4c75-9cd5-43146ae63202",
   "metadata": {},
   "source": [
    "在单个Switch块中，最多一个块的语句处于active状态。\n",
    "\n",
    "这将是pattern与匹配的地一个Case块，或者地一个Default块，已较早者为准。\n",
    "\n",
    "如果存在Default块，或者Case块中的模式涵盖了所有Switch值，则恰好一个块的语句将随时处于active状态，并且整个序列称为完整\n",
    "条件。"
   ]
  },
  {
   "cell_type": "markdown",
   "id": "26ac9ca5-74ff-4808-a904-7f8fca14cfe2",
   "metadata": {},
   "source": [
    "虽然所有Amaranth控制流语法都可以通过编程方式生成，但Switch控制块特别容易以这种方式使用。"
   ]
  },
  {
   "cell_type": "code",
   "execution_count": null,
   "id": "77ead6b1-9d3d-4914-b85a-360f33966dff",
   "metadata": {},
   "outputs": [],
   "source": [
    "length = Signal(4)\n",
    "squared = Signal.like(length * length)\n",
    "\n",
    "with m.Switch(length):\n",
    "    for value in range(length.shape().width):\n",
    "        with m.Case(value):\n",
    "            m.d.comb += squared.eq(value * value)"
   ]
  },
  {
   "cell_type": "markdown",
   "id": "c34c9b18-6689-4a2b-b74d-168cd963dcae",
   "metadata": {},
   "source": [
    "# FSM/State控制块\n",
    "\n",
    "简单的有限状态机使用with m.FSM(): 块来描述。\n",
    "\n",
    "此块可以包含一个或多个with m.State(\"Name\"): 块。\n",
    "\n",
    "除了这些块之外，m.next = \"Name\" 语法还选择FSM在下一个clock cycle上进入的状态。\n",
    "\n",
    "例如，此FSM在reset后执行一次总线读取事务。"
   ]
  },
  {
   "cell_type": "code",
   "execution_count": null,
   "id": "6143cee2-8a8f-4347-a8a9-71b5cf728475",
   "metadata": {},
   "outputs": [],
   "source": [
    "bus_addr = Signal(16)\n",
    "r_data = Signal(8)\n",
    "r_en = Signal()\n",
    "latched = Signal.like(r_data)\n",
    "\n",
    "with m.FSM():\n",
    "    with m.State(\"Set Address\"):\n",
    "        m.d.sync += addr.eq(0x1234)\n",
    "        m.next = \"Strobe Read Enable\"\n",
    "    with m.State(\"Strobe Read Enable\"):\n",
    "        m.d.comb += r_en.eq(1)\n",
    "        m.next = \"Sample Data\"\n",
    "    with m.State(\"Sample Data\"):\n",
    "        m.d.sync += latched.eq(r_data)\n",
    "        with m.If(r_data == 0):\n",
    "            m.next = \"Set Address\" # try again"
   ]
  },
  {
   "cell_type": "markdown",
   "id": "3a57b90a-1a73-462b-aa61-398db85c4b9b",
   "metadata": {},
   "source": [
    "使用with m.FSM(init=\"Set Address\"): 参数定义FSM时，可以提供FSM的初始状态。\n",
    "\n",
    "如果未提供，则它是定义顺序的地一个状态。例如，此定义等小于本节开头的："
   ]
  },
  {
   "cell_type": "code",
   "execution_count": null,
   "id": "b2439a0d-dcce-4de4-8cdf-3015fb12963d",
   "metadata": {},
   "outputs": [],
   "source": [
    "with m.FSM(init=\"Set Address\"):\n",
    "    ...."
   ]
  },
  {
   "cell_type": "markdown",
   "id": "b7a9ff8b-cca5-40aa-9960-75464460e4ad",
   "metadata": {},
   "source": [
    "FSM属于clock domain，该domain是使用with.FSM(domain=\"dom\") 参数制定的。如果未指定，则为sync domain。\n",
    "\n",
    "例如，此定义等效于本节开头的："
   ]
  },
  {
   "cell_type": "code",
   "execution_count": null,
   "id": "d4c7bc97-2ad5-4ffa-a2ad-6c480495472f",
   "metadata": {},
   "outputs": [],
   "source": [
    "with m.FSM(domain=\"sync\"):\n",
    "    ...."
   ]
  },
  {
   "cell_type": "markdown",
   "id": "7209a26f-df5a-48cf-834c-c7c2f0a5aac7",
   "metadata": {},
   "source": [
    "要确定（从FSM定义之外的代码中）它当前是否处于特定状态，可以捕获FSM\n",
    "\n",
    "使用.ongoing(\"Name\")方法返回一个值，该值在FSM处于相应状态时为true。"
   ]
  },
  {
   "cell_type": "code",
   "execution_count": null,
   "id": "da7564d8-ab81-439c-bf63-dfb7f1ff88a5",
   "metadata": {},
   "outputs": [],
   "source": [
    "with m.FSM() as fsm:\n",
    "    ....\n",
    "\n",
    "with m.If(fsm.ongoing(\"Set Address\")):\n",
    "    ..."
   ]
  },
  {
   "cell_type": "markdown",
   "id": "f40f34be-2e80-446d-b245-deecb2be6887",
   "metadata": {},
   "source": [
    "请注意，在Python中，使用 with x() as y: 语法在块末尾之后仍然存在。"
   ]
  },
  {
   "cell_type": "markdown",
   "id": "449712bf-a7d7-4dcc-9668-be4d76be22d7",
   "metadata": {},
   "source": [
    "如果您在提供给m.next = ...或 fsm.ongoing(...)时，创建一个空名称且无法访问的状态，并且没有诊断信息。\n",
    "\n",
    "这种错误的做法将来会修复。"
   ]
  },
  {
   "cell_type": "markdown",
   "id": "ef975966-461a-4d7f-a697-fec40ceec9a0",
   "metadata": {},
   "source": [
    "如果使用m.State(...): 将非字符串对象作为状态名称，则首先将其强制转换成字符串，这可能会导致意外行为。\n",
    "\n",
    "with m.Sate(...): 不专门处理枚举值，如果提供了URL，则将其转换为String，并且其数值将与生成的State Signal的数值没有对应关系。\n",
    "\n",
    "这种错误的做法将来会修复"
   ]
  },
  {
   "cell_type": "markdown",
   "id": "e8675d80-8839-4a2b-8a8c-3edb743d1125",
   "metadata": {},
   "source": [
    "如果两个状态机相互嵌套，则m.next = ...句法始终引用最内层.要从内部状态及中更改外部状态机的状态，请使用中间信号。"
   ]
  },
  {
   "cell_type": "code",
   "execution_count": null,
   "id": "721de696-1a21-4558-b67a-bbea9b017bf8",
   "metadata": {},
   "outputs": [],
   "source": []
  }
 ],
 "metadata": {
  "kernelspec": {
   "display_name": "Python 3 (ipykernel)",
   "language": "python",
   "name": "python3"
  },
  "language_info": {
   "codemirror_mode": {
    "name": "ipython",
    "version": 3
   },
   "file_extension": ".py",
   "mimetype": "text/x-python",
   "name": "python",
   "nbconvert_exporter": "python",
   "pygments_lexer": "ipython3",
   "version": "3.10.12"
  }
 },
 "nbformat": 4,
 "nbformat_minor": 5
}
