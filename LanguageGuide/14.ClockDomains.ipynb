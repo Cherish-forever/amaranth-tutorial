{
 "cells": [
  {
   "cell_type": "markdown",
   "id": "d082b3e7-6cea-46f9-88e0-b7736c815661",
   "metadata": {},
   "source": [
    "# Clock Domains\n",
    "\n",
    "一个新的synchronous control domain， 通常称为clock domain，可以通过创建一个ClockDomain对象并将其添加到m.domains\n",
    "\n",
    "注意：m.d是m.domains.sync的语法糖（快捷写法），用于默认同步域下定义的同步逻辑。\n",
    "\n",
    "m.domain是个容器对象，用于管理设计中的所有时钟域（如sync，pix，usb等）每个域需要单独定义的时钟和复位信号。"
   ]
  },
  {
   "cell_type": "code",
   "execution_count": null,
   "id": "af93c3d9-6f04-45db-9122-9fa2050b666b",
   "metadata": {},
   "outputs": [],
   "source": [
    "m.domains.video = cd_video = ClockDomain()"
   ]
  },
  {
   "cell_type": "markdown",
   "id": "a1acc588-4eb4-4ece-be2d-f600ad955bb7",
   "metadata": {},
   "source": [
    "如果事先不知道domain的名称，则可以使用另一种不太简洁的语法："
   ]
  },
  {
   "cell_type": "code",
   "execution_count": null,
   "id": "be590db6-f296-45b9-bd2d-ab60ecbb3003",
   "metadata": {},
   "outputs": [],
   "source": [
    "def add_video_domain(n):\n",
    "    cd = ClockDomain(f\"video_{n}\")\n",
    "    m.domains += cd\n",
    "    return cd\n",
    "\n",
    "add_video_domain(2)"
   ]
  },
  {
   "cell_type": "markdown",
   "id": "d84be12a-45a1-49f9-9b79-7019fb5f06a9",
   "metadata": {},
   "source": [
    "每当使用domain_name = ClockDomain(...)或m.domains.domain_name = ClockDomain(...)\n",
    "\n",
    "语法立即分配创建的ClockDomain对象时，ClockDomain()调用中可能会省略domain名称。在其他情况下，它必须作为地一个参数提供。"
   ]
  },
  {
   "cell_type": "markdown",
   "id": "38eac924-72d3-4b1c-ba31-899dc27ca6cc",
   "metadata": {},
   "source": [
    "clock domain总是有一个clock信号，可以通过cd.clk属性访问。\n",
    "\n",
    "默认情况下，clock domain是上升沿有效，也可以配置为下降沿有效。"
   ]
  },
  {
   "cell_type": "code",
   "execution_count": null,
   "id": "c051a3d2-012c-4341-9f6b-fb932ac81895",
   "metadata": {},
   "outputs": [],
   "source": [
    "m.domain.jtag = ClockDomain(clk_edge=\"neg\")"
   ]
  },
  {
   "cell_type": "markdown",
   "id": "62d524ad-8634-492d-90f9-125f1d325b1c",
   "metadata": {},
   "source": [
    "clock domain也有一个reset信号，可以通过cd.rst属性访问。\n",
    "\n",
    "reset信号始终为高电平有效：如果reset信号的值为1,则clock domain中的信号被reset。\n",
    "\n",
    "该信号的初始值为0, 因此如果从未分配reset信号，则clock domain中的信号永远不会显式reset（power-on reset）。\n",
    "\n",
    "如果不需要复位，可在clock domain构造的时按照如下配置"
   ]
  },
  {
   "cell_type": "code",
   "execution_count": null,
   "id": "8729826c-13f4-4281-9a18-428984e69aca",
   "metadata": {},
   "outputs": [],
   "source": [
    "m.domains.startup = ClockDomain(reset_less=True)"
   ]
  },
  {
   "cell_type": "markdown",
   "id": "d7c6176d-494f-4749-8e78-9a9ab1a7b301",
   "metadata": {},
   "source": [
    "在reset-less的clock domain中的信号，让然可以使用ResetInserter control flow修饰符显式reset。"
   ]
  },
  {
   "cell_type": "markdown",
   "id": "eb97f3f0-569a-4ef3-97e9-c24439a6389b",
   "metadata": {},
   "source": [
    "## clock和reset信号绑定\n",
    "\n",
    "Clock domain是late bound（延迟绑定）的，这意味着在创建具有该名称的ClockDomain对象并将其添加到design之前，\n",
    "\n",
    "可以使用domain名称引用domain的clock和reset信号。"
   ]
  },
  {
   "cell_type": "code",
   "execution_count": null,
   "id": "9f290f5b-2dcc-46e5-8165-2eddb711d6bf",
   "metadata": {},
   "outputs": [],
   "source": [
    "m.d.comb += [\n",
    "    ClockSignal().eq(bus_clk),\n",
    "    ResetSignal().eq(~bus_rstn)\n",
    "]"
   ]
  },
  {
   "cell_type": "markdown",
   "id": "d723af38-b892-4039-a998-e4b3689235a8",
   "metadata": {},
   "source": [
    "在该示例中，一旦design被处理，在此module或其包含的modules之一中找到clock domain sync的clock信号等于bus_clk。\n",
    "\n",
    "同一clock domain的reset信号将等于被否定的bus_rstn。\n",
    "\n",
    "在sync domain模块中创建"
   ]
  },
  {
   "cell_type": "code",
   "execution_count": null,
   "id": "f50fbaba-9c8e-43ed-b433-89ddd9664199",
   "metadata": {},
   "outputs": [],
   "source": [
    "m.domains.sync = cd_sync = ClockDomain()\n",
    "m.d.comb += [\n",
    "    cd_sync.clk.eq(bus_clk),\n",
    "    cd_sync.rst.eq(~bus_rstn),\n",
    "]"
   ]
  },
  {
   "cell_type": "markdown",
   "id": "dd96437e-7d9c-4988-baa7-b8dcf98a4049",
   "metadata": {},
   "source": [
    "ClockSignal和ResetSignal又可以分配给其他信号并在表达式中使用。\n",
    "\n",
    "他们采用单个参数，即domain的名称，如果未指定，则默认为sync。"
   ]
  },
  {
   "cell_type": "markdown",
   "id": "ed030c80-5fea-4173-87fa-9f84c89e3419",
   "metadata": {},
   "source": [
    "在表达式中使用ClockSignal或cd.clk时要特别小心。\n",
    "\n",
    "与clock信号进行assign通常是安全的，任何其他操作可能产生不可预知的结果。\n",
    "\n",
    "请查阅synthesis toolchain和platform的文档，以了解允许使用clock signal的作。\n",
    "\n",
    "FPGAs通常具有专用的clocking设施，可用于禁用，分品或多路服用clock signals。\n",
    "\n",
    "当以FPGA为目标时，应尽可能使用这些工具，\n",
    "\n",
    "并且应避免使用像ClockSingal() & en或Mux(sel, ClockSignal(\"a\"), ClockSignal(\"b\"))"
   ]
  },
  {
   "cell_type": "code",
   "execution_count": null,
   "id": "a8aef9c5-f02d-4267-995d-c0244d7f6233",
   "metadata": {},
   "outputs": [],
   "source": []
  }
 ],
 "metadata": {
  "kernelspec": {
   "display_name": "Python 3 (ipykernel)",
   "language": "python",
   "name": "python3"
  },
  "language_info": {
   "codemirror_mode": {
    "name": "ipython",
    "version": 3
   },
   "file_extension": ".py",
   "mimetype": "text/x-python",
   "name": "python",
   "nbconvert_exporter": "python",
   "pygments_lexer": "ipython3",
   "version": "3.10.12"
  }
 },
 "nbformat": 4,
 "nbformat_minor": 5
}
