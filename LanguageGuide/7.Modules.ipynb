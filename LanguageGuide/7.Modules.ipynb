{
 "cells": [
  {
   "cell_type": "markdown",
   "id": "e1872516-2c5d-4ee8-be6f-9124ad7863df",
   "metadata": {},
   "source": [
    "# Modules\n",
    "\n",
    "module是Amaranth设计的层次结构：可独立仿真，综合的最小logic集合。\n",
    "\n",
    "Modules将signals与control domains关联，提供control flow语法，管理clock domains，并聚合submodules。\n",
    "\n",
    "每个Amaranth设计都从一个Module开始"
   ]
  },
  {
   "cell_type": "code",
   "execution_count": null,
   "id": "fb9054f3-8a6f-47a4-9579-24450c152f21",
   "metadata": {},
   "outputs": [],
   "source": [
    "%config InteractiveShell.ast_node_interactivity = \"all\"\n",
    "\n",
    "from amaranth import *\n",
    "\n",
    "m = Module()"
   ]
  }
 ],
 "metadata": {
  "kernelspec": {
   "display_name": "Python 3 (ipykernel)",
   "language": "python",
   "name": "python3"
  },
  "language_info": {
   "codemirror_mode": {
    "name": "ipython",
    "version": 3
   },
   "file_extension": ".py",
   "mimetype": "text/x-python",
   "name": "python",
   "nbconvert_exporter": "python",
   "pygments_lexer": "ipython3",
   "version": "3.10.12"
  }
 },
 "nbformat": 4,
 "nbformat_minor": 5
}
