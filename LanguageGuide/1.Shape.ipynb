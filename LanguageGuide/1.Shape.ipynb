{
 "cells": [
  {
   "cell_type": "markdown",
   "id": "09864196-90a1-49bb-b4e8-b28b3778c763",
   "metadata": {},
   "source": [
    "# Shape\n",
    "\n",
    "Shape描述Amaranth中Value对象的位宽和符号。\n",
    "\n",
    "可以按照下面的例子进行构造："
   ]
  },
  {
   "cell_type": "code",
   "execution_count": 25,
   "id": "9e6dd8a3-2ec1-4100-ab75-8f4a713d42fc",
   "metadata": {},
   "outputs": [
    {
     "data": {
      "text/plain": [
       "unsigned(1)"
      ]
     },
     "execution_count": 25,
     "metadata": {},
     "output_type": "execute_result"
    },
    {
     "name": "stdout",
     "output_type": "stream",
     "text": [
      "The history saving thread hit an unexpected error (OperationalError('attempt to write a readonly database')).History will not be written to the database.\n"
     ]
    },
    {
     "data": {
      "text/plain": [
       "unsigned(5)"
      ]
     },
     "execution_count": 25,
     "metadata": {},
     "output_type": "execute_result"
    },
    {
     "data": {
      "text/plain": [
       "signed(6)"
      ]
     },
     "execution_count": 25,
     "metadata": {},
     "output_type": "execute_result"
    },
    {
     "data": {
      "text/plain": [
       "signed(7)"
      ]
     },
     "execution_count": 25,
     "metadata": {},
     "output_type": "execute_result"
    },
    {
     "data": {
      "text/plain": [
       "True"
      ]
     },
     "execution_count": 25,
     "metadata": {},
     "output_type": "execute_result"
    },
    {
     "data": {
      "text/plain": [
       "True"
      ]
     },
     "execution_count": 25,
     "metadata": {},
     "output_type": "execute_result"
    }
   ],
   "source": [
    "%config InteractiveShell.ast_node_interactivity = \"all\"\n",
    "\n",
    "from amaranth import *\n",
    "\n",
    "Shape() # 默认构造1bit位宽，无符号Shape\n",
    "\n",
    "# 参数构造\n",
    "Shape(5)                    # 构造一个5bits宽，默认无符号的shape\n",
    "Shape(6, True)              # 构造一个6bits宽，有符号的shape\n",
    "Shape(width=7, signed=True) # 够在一个7bits宽，有符号的shape\n",
    "\n",
    "# 使用unsigned和signed创建shape与Shape直接创建相等\n",
    "Shape(8, False) == unsigned(8) # 可以使用unsigned构造无符号shape\n",
    "Shape(9, True) == signed(9)  # 可以使用signed构造有符号shape"
   ]
  },
  {
   "cell_type": "markdown",
   "id": "6012c3df-f1df-498e-8743-6d361d74e05f",
   "metadata": {},
   "source": [
    "# Shape casting\n",
    "\n",
    "Shape的cast方法可接收不同类型的参数进行构造，支持：Shape， int，range, enum"
   ]
  },
  {
   "cell_type": "markdown",
   "id": "ca523408-7e8c-4904-b684-632b85445e73",
   "metadata": {},
   "source": [
    "## Shape构造\n",
    "\n",
    "Shape的静态方法cast，可接收class Shape类型，直接返回该类型。"
   ]
  },
  {
   "cell_type": "code",
   "execution_count": 10,
   "id": "daad9e33-6d60-4629-8579-65a6976a86f6",
   "metadata": {},
   "outputs": [
    {
     "data": {
      "text/plain": [
       "unsigned(5)"
      ]
     },
     "execution_count": 10,
     "metadata": {},
     "output_type": "execute_result"
    },
    {
     "data": {
      "text/plain": [
       "signed(6)"
      ]
     },
     "execution_count": 10,
     "metadata": {},
     "output_type": "execute_result"
    },
    {
     "data": {
      "text/plain": [
       "signed(7)"
      ]
     },
     "execution_count": 10,
     "metadata": {},
     "output_type": "execute_result"
    },
    {
     "data": {
      "text/plain": [
       "signed(8)"
      ]
     },
     "execution_count": 10,
     "metadata": {},
     "output_type": "execute_result"
    }
   ],
   "source": [
    "Shape.cast(unsigned(5))    # 使用unsigned构建shape\n",
    "Shape.cast(signed(6))      # 使用signed构建shape\n",
    "Shape.cast(Shape(7, True)) # 使用Shape构建shape\n",
    "Shape.cast(Shape(width=8, signed=True))"
   ]
  },
  {
   "cell_type": "markdown",
   "id": "9927502e-5810-4db0-95f9-84e1a47d0734",
   "metadata": {},
   "source": [
    "## int构造\n",
    "\n",
    "Shape的静态方法cast，可接收int类型进行构造，默认为无符号类型。与Shape(i)和unsigned(i)等价，直接返回Signed(i)"
   ]
  },
  {
   "cell_type": "code",
   "execution_count": 12,
   "id": "45c976b4-488d-4255-95fd-5d2d8bf77f2f",
   "metadata": {},
   "outputs": [
    {
     "data": {
      "text/plain": [
       "unsigned(10)"
      ]
     },
     "execution_count": 12,
     "metadata": {},
     "output_type": "execute_result"
    },
    {
     "data": {
      "text/plain": [
       "True"
      ]
     },
     "execution_count": 12,
     "metadata": {},
     "output_type": "execute_result"
    },
    {
     "data": {
      "text/plain": [
       "True"
      ]
     },
     "execution_count": 12,
     "metadata": {},
     "output_type": "execute_result"
    }
   ],
   "source": [
    "Shape.cast(10) # 直接返回的是Shape(10)\n",
    "Shape.cast(10) == Shape(10)\n",
    "Shape.cast(10) == unsigned(10)"
   ]
  },
  {
   "cell_type": "markdown",
   "id": "a96a6b5b-4e58-4efe-8dae-3d8fdcaef48f",
   "metadata": {},
   "source": [
    "## range构造\n",
    "\n",
    "Shape的静态方法cast，可接收range类型进行构造，会自动提取符号位和计算相应的位宽。"
   ]
  },
  {
   "cell_type": "code",
   "execution_count": 15,
   "id": "129d0814-20e9-4cbf-ac31-139a61dd4e19",
   "metadata": {},
   "outputs": [
    {
     "data": {
      "text/plain": [
       "signed(5)"
      ]
     },
     "execution_count": 15,
     "metadata": {},
     "output_type": "execute_result"
    },
    {
     "data": {
      "text/plain": [
       "unsigned(7)"
      ]
     },
     "execution_count": 15,
     "metadata": {},
     "output_type": "execute_result"
    }
   ],
   "source": [
    "Shape.cast(range(-10, 10)) # 有符号，5bits位宽的shape\n",
    "Shape.cast(range(0, 100))  # 无符号，7bits位宽"
   ]
  },
  {
   "cell_type": "markdown",
   "id": "1dc83624-4acf-4dd5-ad70-a67130e5544f",
   "metadata": {},
   "source": [
    "## enum构造\n",
    "\n",
    "Shape的静态方法cast，可接收enum类型进行构造"
   ]
  },
  {
   "cell_type": "code",
   "execution_count": 18,
   "id": "939727ac-3601-4162-aef8-a4750f9d15cf",
   "metadata": {},
   "outputs": [
    {
     "data": {
      "text/plain": [
       "unsigned(2)"
      ]
     },
     "execution_count": 18,
     "metadata": {},
     "output_type": "execute_result"
    }
   ],
   "source": [
    "import enum\n",
    "\n",
    "class Direction(enum.Enum):\n",
    "    TOP = 0\n",
    "    LEFT = 1\n",
    "    BOTTOM = 2\n",
    "    RIGHT = 3\n",
    "\n",
    "Shape.cast(Direction) # 无符号，2bits"
   ]
  },
  {
   "cell_type": "markdown",
   "id": "1ca69b09-1f1a-4444-ae4f-c884120c6a6e",
   "metadata": {},
   "source": [
    "amaranth.lib.enum模块扩展了标准enum，以便在定义他们时可以显式指明他们的shape"
   ]
  },
  {
   "cell_type": "code",
   "execution_count": 21,
   "id": "7cdd965c-a2be-4d51-833b-688458b84494",
   "metadata": {},
   "outputs": [
    {
     "data": {
      "text/plain": [
       "unsigned(4)"
      ]
     },
     "execution_count": 21,
     "metadata": {},
     "output_type": "execute_result"
    }
   ],
   "source": [
    "from amaranth.lib.enum import Enum\n",
    "\n",
    "class Func4(Enum, shape=unsigned(4)): # 带shape的enum\n",
    "    ADD = 0\n",
    "    SUB = 1\n",
    "    MUL = 2\n",
    "\n",
    "Shape.cast(Func4) # 直接使用Func4显式定义的shape"
   ]
  },
  {
   "cell_type": "markdown",
   "id": "79221ffa-7a77-48de-bd1e-44dbf97f2a7e",
   "metadata": {},
   "source": [
    "# Shape的一些其他方法"
   ]
  },
  {
   "cell_type": "code",
   "execution_count": 22,
   "id": "87068df9-49f6-4b2d-ba13-d8f6c8b4df60",
   "metadata": {},
   "outputs": [
    {
     "data": {
      "text/plain": [
       "10"
      ]
     },
     "execution_count": 22,
     "metadata": {},
     "output_type": "execute_result"
    },
    {
     "data": {
      "text/plain": [
       "True"
      ]
     },
     "execution_count": 22,
     "metadata": {},
     "output_type": "execute_result"
    }
   ],
   "source": [
    "Shape(10, False).width # 通过.width获取位宽\n",
    "Shape(10, True).signed # 通过.signed获取符号位"
   ]
  },
  {
   "cell_type": "code",
   "execution_count": 24,
   "id": "81bc7369-2f30-415e-95fe-6b5ab2e3fdc1",
   "metadata": {},
   "outputs": [
    {
     "data": {
      "text/plain": [
       "signed(12)"
      ]
     },
     "execution_count": 24,
     "metadata": {},
     "output_type": "execute_result"
    }
   ],
   "source": [
    "Shape._unify([unsigned(8), unsigned(3), signed(8), signed(12)]) # 找出能容纳所有shape的最小shape"
   ]
  },
  {
   "cell_type": "markdown",
   "id": "0cfb3f13-fd1b-489a-b5f7-07c71b2a7d6f",
   "metadata": {},
   "source": [
    "# Custom shapes\n",
    "\n",
    "任何实现ShapeCastable接口的Python Value都可以使用自定义shape来扩展语言。\n",
    "\n",
    "例如： 标准库模块amaranth.lib.data,使用该功能向语言添加对聚合数据的支持。"
   ]
  },
  {
   "cell_type": "code",
   "execution_count": null,
   "id": "1ccca8ba-f203-449f-8c1d-672146679c95",
   "metadata": {},
   "outputs": [],
   "source": []
  }
 ],
 "metadata": {
  "kernelspec": {
   "display_name": "Python 3 (ipykernel)",
   "language": "python",
   "name": "python3"
  },
  "language_info": {
   "codemirror_mode": {
    "name": "ipython",
    "version": 3
   },
   "file_extension": ".py",
   "mimetype": "text/x-python",
   "name": "python",
   "nbconvert_exporter": "python",
   "pygments_lexer": "ipython3",
   "version": "3.10.12"
  }
 },
 "nbformat": 4,
 "nbformat_minor": 5
}
