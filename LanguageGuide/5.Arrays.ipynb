{
 "cells": [
  {
   "cell_type": "markdown",
   "id": "84e9bc57-8dcf-4fa1-9070-0f3cd1429812",
   "metadata": {},
   "source": [
    "# Arrays\n",
    "\n",
    "Array是一个可变集合，可以使用int或类似值对象进行索引。当使用int索引时，他的行为类似于List。\n",
    "\n",
    "当使用类似Value的对象进行索引时，他将返回一个proxy对象，该对象包含Array的元素，该元素有三个有用的属性。\n",
    "\n",
    "* 访问proxy对象的属性或为其编制索引的结果是另一个proxy对象，其中包含以相同方式转换的元素。\n",
    "* 当proxy对象强制转换为Value时，其所有元素也会强制转换为值，并使用最初用于Array的索引选择元素。\n",
    "* proxy对象既可以用于表达式中，也可以用作赋值的Target\n",
    "\n",
    "至关重要的是，这意味着任何Python对象都可以添加到数组中，唯一的要求是涉及它的任何计算的最终结果是一个类似与Value的对象"
   ]
  },
  {
   "cell_type": "code",
   "execution_count": 1,
   "id": "26c64bbe-af08-4304-97d5-e6590e834acc",
   "metadata": {},
   "outputs": [
    {
     "data": {
      "text/plain": [
       "(proxy (array [180, 74, 115]) (sig index))"
      ]
     },
     "execution_count": 1,
     "metadata": {},
     "output_type": "execute_result"
    }
   ],
   "source": [
    "%config InteractiveShell.ast_node_interactivity = \"all\"\n",
    "\n",
    "from amaranth import *\n",
    "\n",
    "pixels = Array([\n",
    "    {\"r\": 180, \"g\": 92, \"b\": 230},\n",
    "    {\"r\": 74, \"g\": 130, \"b\": 128},\n",
    "    {\"r\": 115, \"g\": 58, \"b\": 31},\n",
    "])\n",
    "\n",
    "index = Signal(range(len(pixels)))\n",
    "pixels[index][\"r\"]"
   ]
  },
  {
   "cell_type": "markdown",
   "id": "80737849-f980-41fe-b930-845c18a2c4ad",
   "metadata": {},
   "source": [
    "Array在首次编制索引后变为不可变。Array的元素本身不会变得可变，但不建议改变他们，因为行为可能会变得不可预测。"
   ]
  },
  {
   "cell_type": "code",
   "execution_count": null,
   "id": "f9d28ce5-ba76-4471-9937-9ff05e610356",
   "metadata": {},
   "outputs": [],
   "source": []
  }
 ],
 "metadata": {
  "kernelspec": {
   "display_name": "Python 3 (ipykernel)",
   "language": "python",
   "name": "python3"
  },
  "language_info": {
   "codemirror_mode": {
    "name": "ipython",
    "version": 3
   },
   "file_extension": ".py",
   "mimetype": "text/x-python",
   "name": "python",
   "nbconvert_exporter": "python",
   "pygments_lexer": "ipython3",
   "version": "3.10.12"
  }
 },
 "nbformat": 4,
 "nbformat_minor": 5
}
