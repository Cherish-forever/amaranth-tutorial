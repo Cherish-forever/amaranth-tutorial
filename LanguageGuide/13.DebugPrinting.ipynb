{
 "cells": [
  {
   "cell_type": "markdown",
   "id": "28c1d5d6-58d2-4588-b090-393a7daaf55e",
   "metadata": {},
   "source": [
    "# Debug printing\n",
    "\n",
    "任何表达式或其中几个表达式的值都可以在仿真期间使用print语句打印到Terminal。\n",
    "\n",
    "当添加到combinational domain时，每当表达式发生变化时，都会打印表达式的值。"
   ]
  },
  {
   "cell_type": "code",
   "execution_count": 3,
   "id": "026ca2ad-afa8-4250-a85b-d64ada1fd40f",
   "metadata": {},
   "outputs": [],
   "source": [
    "%config InteractiveShell.ast_node_interactivity = \"all\"\n",
    "\n",
    "from amaranth import *\n",
    "\n",
    "m = Module()\n",
    "\n",
    "state = Signal()\n",
    "\n",
    "m.d.comb += Print(state)"
   ]
  },
  {
   "cell_type": "markdown",
   "id": "0a142135-e1f4-425e-953e-66491114f3e5",
   "metadata": {},
   "source": [
    "当添加到synchronous domain时，只要该domain的clock上出现active edge，就会打印表达式的值"
   ]
  },
  {
   "cell_type": "code",
   "execution_count": 4,
   "id": "7229f0dc-a042-456e-a89c-eaa6e72dad4c",
   "metadata": {},
   "outputs": [],
   "source": [
    "m.d.sync += Print(\"on tick:\", state)"
   ]
  },
  {
   "cell_type": "markdown",
   "id": "f05e3d2d-b245-4fc3-a66a-8928ed7c1aff",
   "metadata": {},
   "source": [
    "Print语句，都可以嵌套在control block中："
   ]
  },
  {
   "cell_type": "code",
   "execution_count": 5,
   "id": "9ff9f0f1-edd3-4548-bc34-034440189629",
   "metadata": {},
   "outputs": [],
   "source": [
    "old_state = Signal.like(state)\n",
    "m.d.sync += old_state.eq(state)\n",
    "with m.If(state != old_state):\n",
    "    m.d.sync += Print(\"was: \", old_state, \"now: \", state)"
   ]
  },
  {
   "cell_type": "markdown",
   "id": "e93c3d73-c28b-47ee-ac0e-b1e482865a02",
   "metadata": {},
   "source": [
    "Print语句的参数与Python的print()函数的参数具有相同的含义，不同之处在于仅支持sep和end关键字。\n",
    "\n",
    "此外，Format帮助程序可用于对应用格式设置，类似于Python的str.format()方法"
   ]
  },
  {
   "cell_type": "code",
   "execution_count": 6,
   "id": "8a44ccab-929d-4946-8795-7a8a67b66cb7",
   "metadata": {},
   "outputs": [],
   "source": [
    "addr = Signal(32)\n",
    "m.d.sync += Print(Format(\"address: {:08x}\", addr))"
   ]
  },
  {
   "cell_type": "markdown",
   "id": "9d6fbf1f-1fc9-44cf-b392-758181fc86a1",
   "metadata": {},
   "source": [
    "在Print和Format中，非Amaranth值的参数都使用通常的Python规则进行格式设置。\n",
    "\n",
    "Assert的可选第二个message参数，也接收字符串或Format"
   ]
  },
  {
   "cell_type": "code",
   "execution_count": 7,
   "id": "c98eec7c-6d07-4843-9fb6-8d12a4003445",
   "metadata": {},
   "outputs": [],
   "source": [
    "m.d.sync += Assert((addr & 0b111) == 0, message=Format(\"unaligned address {:08x}!\", addr))"
   ]
  },
  {
   "cell_type": "code",
   "execution_count": null,
   "id": "ccdc5762-69bc-4125-ac16-e64092ea4117",
   "metadata": {},
   "outputs": [],
   "source": []
  }
 ],
 "metadata": {
  "kernelspec": {
   "display_name": "Python 3 (ipykernel)",
   "language": "python",
   "name": "python3"
  },
  "language_info": {
   "codemirror_mode": {
    "name": "ipython",
    "version": 3
   },
   "file_extension": ".py",
   "mimetype": "text/x-python",
   "name": "python",
   "nbconvert_exporter": "python",
   "pygments_lexer": "ipython3",
   "version": "3.10.12"
  }
 },
 "nbformat": 4,
 "nbformat_minor": 5
}
