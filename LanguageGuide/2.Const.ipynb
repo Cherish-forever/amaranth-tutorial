{
 "cells": [
  {
   "cell_type": "markdown",
   "id": "0d2aa999-7a01-46f1-9e2f-27ce375eece7",
   "metadata": {},
   "source": [
    "# Const\n",
    "\n",
    "Constants继承class Value，是最简单的Amaranth Value，表示一个固定的数字，并使用Const(...)或简写C(...)进行构造"
   ]
  },
  {
   "cell_type": "code",
   "execution_count": 35,
   "id": "9f271997-b936-49f3-b6ca-b11e5052ddca",
   "metadata": {},
   "outputs": [
    {
     "data": {
      "text/plain": [
       "(const 4'd10)"
      ]
     },
     "execution_count": 35,
     "metadata": {},
     "output_type": "execute_result"
    },
    {
     "data": {
      "text/plain": [
       "(const 2'sd-2)"
      ]
     },
     "execution_count": 35,
     "metadata": {},
     "output_type": "execute_result"
    },
    {
     "data": {
      "text/plain": [
       "(const 8'd10)"
      ]
     },
     "execution_count": 35,
     "metadata": {},
     "output_type": "execute_result"
    },
    {
     "data": {
      "text/plain": [
       "(const 7'd10)"
      ]
     },
     "execution_count": 35,
     "metadata": {},
     "output_type": "execute_result"
    },
    {
     "data": {
      "text/plain": [
       "(const 8'd10)"
      ]
     },
     "execution_count": 35,
     "metadata": {},
     "output_type": "execute_result"
    }
   ],
   "source": [
    "%config InteractiveShell.ast_node_interactivity = \"all\"\n",
    "\n",
    "from amaranth import *\n",
    "\n",
    "Const(10)                # 常规构造，4bits位宽无符号常量10\n",
    "C(-2)                    # 简写构造，2bits位宽有符号常量-2\n",
    "Const(10, unsigned(8))   # 带shape构造，8bits位宽无符号常量10\n",
    "Const(10, range(0, 100)) # 带range构造，先用range构造出shape，再用shape构造出Const\n",
    "Const(10, 8)             # shape可以为int类型，表示为位宽，符号自动根据常量自动判断"
   ]
  },
  {
   "cell_type": "markdown",
   "id": "1c710b44-b03c-4eac-ae47-c713cf39a475",
   "metadata": {},
   "source": [
    "## Enum构造"
   ]
  },
  {
   "cell_type": "code",
   "execution_count": 30,
   "id": "f54b0de5-8cc5-4062-85f5-d6ef2c96edf0",
   "metadata": {},
   "outputs": [
    {
     "data": {
      "text/plain": [
       "unsigned(2)"
      ]
     },
     "execution_count": 30,
     "metadata": {},
     "output_type": "execute_result"
    },
    {
     "data": {
      "text/plain": [
       "3"
      ]
     },
     "execution_count": 30,
     "metadata": {},
     "output_type": "execute_result"
    }
   ],
   "source": [
    "import enum\n",
    "\n",
    "class Direction(enum.Enum):\n",
    "    TOP = 0\n",
    "    LEFT = 1\n",
    "    BOTTOM = 2\n",
    "    RIGHT = 3\n",
    "\n",
    "Const(Direction.RIGHT).shape() # 无符号，2bits\n",
    "Const(Direction.RIGHT).value   # 3"
   ]
  },
  {
   "cell_type": "markdown",
   "id": "adda58a1-759d-4d36-ae4f-f37c6b08fe19",
   "metadata": {},
   "source": [
    "# Const casting\n",
    "\n",
    "Const的cast静态方法可接受不同类型的参数用于创建常量\n",
    "\n",
    "首先使用的是class Value的静态方法cast将参数转换为value"
   ]
  },
  {
   "cell_type": "code",
   "execution_count": 38,
   "id": "e7dc386c-e36f-47f0-bf7f-b462f9688436",
   "metadata": {},
   "outputs": [
    {
     "data": {
      "text/plain": [
       "(const 4'd12)"
      ]
     },
     "execution_count": 38,
     "metadata": {},
     "output_type": "execute_result"
    }
   ],
   "source": [
    "# 使用int构造常量\n",
    "Const.cast(12)"
   ]
  },
  {
   "cell_type": "code",
   "execution_count": 40,
   "id": "fe4d75b2-64a1-4b45-9486-cbbc551e834a",
   "metadata": {},
   "outputs": [
    {
     "data": {
      "text/plain": [
       "(const 2'd3)"
      ]
     },
     "execution_count": 40,
     "metadata": {},
     "output_type": "execute_result"
    }
   ],
   "source": [
    "# 使用enum构造常量\n",
    "Const.cast(Direction.RIGHT)"
   ]
  },
  {
   "cell_type": "code",
   "execution_count": 41,
   "id": "4424db40-a70f-4cad-820d-23cc271033d9",
   "metadata": {},
   "outputs": [
    {
     "data": {
      "text/plain": [
       "(const 6'd26)"
      ]
     },
     "execution_count": 41,
     "metadata": {},
     "output_type": "execute_result"
    }
   ],
   "source": [
    "# Concat构造\n",
    "Const.cast(Cat(C(10, 4), C(1, 2)))"
   ]
  },
  {
   "cell_type": "code",
   "execution_count": 58,
   "id": "19b933ab-c320-484a-9b0c-28dfe39fe133",
   "metadata": {},
   "outputs": [
    {
     "name": "stderr",
     "output_type": "stream",
     "text": [
      "/tmp/ipykernel_3908899/2442795652.py:2: DeprecationWarning: name `amaranth.hdl.ast.Slice` is a private implementation detail and should not be imported\n",
      "  from amaranth.hdl.ast import Slice # 弃用警告\n"
     ]
    },
    {
     "data": {
      "text/plain": [
       "(const 4'd9)"
      ]
     },
     "execution_count": 58,
     "metadata": {},
     "output_type": "execute_result"
    }
   ],
   "source": [
    "# Slice构造\n",
    "from amaranth.hdl.ast import Slice # 弃用警告\n",
    "\n",
    "Const.cast(Slice(Const(100), 2, 6))"
   ]
  },
  {
   "cell_type": "code",
   "execution_count": 48,
   "id": "67f5c859-1492-4134-86a1-d0227c39eaa7",
   "metadata": {},
   "outputs": [
    {
     "data": {
      "text/plain": [
       "(const 7'd100)"
      ]
     },
     "execution_count": 48,
     "metadata": {},
     "output_type": "execute_result"
    }
   ],
   "source": [
    "# Value构造\n",
    "Const.cast(Const(100))"
   ]
  },
  {
   "cell_type": "code",
   "execution_count": 59,
   "id": "bdb118ae-6f79-49ab-9fdd-f91908c855a0",
   "metadata": {},
   "outputs": [
    {
     "data": {
      "text/plain": [
       "(const 3'd5)"
      ]
     },
     "execution_count": 59,
     "metadata": {},
     "output_type": "execute_result"
    }
   ],
   "source": [
    "# custom 构造\n",
    "from amaranth.hdl import ValueCastable\n",
    "\n",
    "class Point(ValueCastable):\n",
    "    def __init__(self, x, y):\n",
    "        self.x = Const(x)\n",
    "        self.y = Const(y)\n",
    "    def shape(self):\n",
    "        return unsigned(16)\n",
    "    def __eq__(self, other):\n",
    "        return self.value() == other.value()\n",
    "    def as_value(self):\n",
    "        return Cat(self.x, self.y)\n",
    "\n",
    "Const.cast(Point(1, 2))"
   ]
  },
  {
   "cell_type": "markdown",
   "id": "6b4cf9ca-897c-4bab-b0d3-e6e9c4042279",
   "metadata": {},
   "source": [
    "# Const的一些其他方法"
   ]
  },
  {
   "cell_type": "markdown",
   "id": "751e82ac-745d-4dc0-aba4-064bf326af81",
   "metadata": {},
   "source": [
    "## 通过.value获取常量的值，"
   ]
  },
  {
   "cell_type": "code",
   "execution_count": 60,
   "id": "69e26b3d-f286-4fa8-abff-bb0c667560e7",
   "metadata": {},
   "outputs": [
    {
     "data": {
      "text/plain": [
       "10"
      ]
     },
     "execution_count": 60,
     "metadata": {},
     "output_type": "execute_result"
    }
   ],
   "source": [
    "Const(10).value"
   ]
  },
  {
   "cell_type": "markdown",
   "id": "778f9f84-3fba-46b6-8c44-19968c1436a7",
   "metadata": {},
   "source": [
    "## 通过.shape获取常量的shape"
   ]
  },
  {
   "cell_type": "code",
   "execution_count": 61,
   "id": "cfa6296f-5b43-448c-9375-c9a7c02e5f36",
   "metadata": {},
   "outputs": [
    {
     "data": {
      "text/plain": [
       "unsigned(4)"
      ]
     },
     "execution_count": 61,
     "metadata": {},
     "output_type": "execute_result"
    },
    {
     "data": {
      "text/plain": [
       "signed(2)"
      ]
     },
     "execution_count": 61,
     "metadata": {},
     "output_type": "execute_result"
    }
   ],
   "source": [
    "Const(10).shape() # 为unsigned(4)的shape\n",
    "C(-2).shape() # 为signed(2)的shape"
   ]
  },
  {
   "cell_type": "markdown",
   "id": "4d165ecf-6cd3-4088-9e55-76ae1172fb72",
   "metadata": {},
   "source": [
    "## 通过len(...)获取位宽"
   ]
  },
  {
   "cell_type": "code",
   "execution_count": 62,
   "id": "d8a0584e-4f18-4027-b359-07f26bb3863f",
   "metadata": {},
   "outputs": [
    {
     "data": {
      "text/plain": [
       "4"
      ]
     },
     "execution_count": 62,
     "metadata": {},
     "output_type": "execute_result"
    }
   ],
   "source": [
    "len(Const(10)) # 使用len(...)获取位宽"
   ]
  }
 ],
 "metadata": {
  "kernelspec": {
   "display_name": "Python 3 (ipykernel)",
   "language": "python",
   "name": "python3"
  },
  "language_info": {
   "codemirror_mode": {
    "name": "ipython",
    "version": 3
   },
   "file_extension": ".py",
   "mimetype": "text/x-python",
   "name": "python",
   "nbconvert_exporter": "python",
   "pygments_lexer": "ipython3",
   "version": "3.10.12"
  }
 },
 "nbformat": 4,
 "nbformat_minor": 5
}
